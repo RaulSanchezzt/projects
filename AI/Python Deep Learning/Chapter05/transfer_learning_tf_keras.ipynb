{
  "nbformat": 4,
  "nbformat_minor": 0,
  "metadata": {
    "colab": {
      "provenance": [],
      "machine_shape": "hm",
      "gpuType": "A100"
    },
    "kernelspec": {
      "name": "python3",
      "display_name": "Python 3"
    },
    "language_info": {
      "name": "python"
    },
    "accelerator": "GPU"
  },
  "cells": [
    {
      "cell_type": "markdown",
      "source": [
        "This example is partially based on https://github.com/tensorflow/docs/blob/master/site/en/tutorials/images/transfer_learning.ipynb\n",
        "\n",
        "Copyright 2018 The TensorFlow Authors.  All rights reserved.\n",
        "Copyright 2023 Ivan Vasilev.\n",
        "\n",
        "Licensed under the Apache License, Version 2.0 (the \"License\");\n",
        "you may not use this file except in compliance with the License.\n",
        "You may obtain a copy of the License at\n",
        "\n",
        "   http://www.apache.org/licenses/LICENSE-2.0\n",
        "\n",
        "Unless required by applicable law or agreed to in writing, software\n",
        "distributed under the License is distributed on an \"AS IS\" BASIS,\n",
        "WITHOUT WARRANTIES OR CONDITIONS OF ANY KIND, either express or implied.\n",
        "See the License for the specific language governing permissions and\n",
        "limitations under the License."
      ],
      "metadata": {
        "id": "i4SKARZMAgVi"
      }
    },
    {
      "cell_type": "markdown",
      "source": [
        "Install the dependencies:"
      ],
      "metadata": {
        "id": "-F9oqD23BHrM"
      }
    },
    {
      "cell_type": "code",
      "execution_count": 1,
      "metadata": {
        "colab": {
          "base_uri": "https://localhost:8080/"
        },
        "id": "WacMklcEAbTQ",
        "outputId": "0a494f9b-4469-4d90-c4f1-9475bb9f3123"
      },
      "outputs": [
        {
          "output_type": "stream",
          "name": "stdout",
          "text": [
            "Requirement already satisfied: tensorflow in /usr/local/lib/python3.10/dist-packages (2.13.0)\n",
            "Requirement already satisfied: absl-py>=1.0.0 in /usr/local/lib/python3.10/dist-packages (from tensorflow) (1.4.0)\n",
            "Requirement already satisfied: astunparse>=1.6.0 in /usr/local/lib/python3.10/dist-packages (from tensorflow) (1.6.3)\n",
            "Requirement already satisfied: flatbuffers>=23.1.21 in /usr/local/lib/python3.10/dist-packages (from tensorflow) (23.5.26)\n",
            "Requirement already satisfied: gast<=0.4.0,>=0.2.1 in /usr/local/lib/python3.10/dist-packages (from tensorflow) (0.4.0)\n",
            "Requirement already satisfied: google-pasta>=0.1.1 in /usr/local/lib/python3.10/dist-packages (from tensorflow) (0.2.0)\n",
            "Requirement already satisfied: grpcio<2.0,>=1.24.3 in /usr/local/lib/python3.10/dist-packages (from tensorflow) (1.57.0)\n",
            "Requirement already satisfied: h5py>=2.9.0 in /usr/local/lib/python3.10/dist-packages (from tensorflow) (3.9.0)\n",
            "Requirement already satisfied: keras<2.14,>=2.13.1 in /usr/local/lib/python3.10/dist-packages (from tensorflow) (2.13.1)\n",
            "Requirement already satisfied: libclang>=13.0.0 in /usr/local/lib/python3.10/dist-packages (from tensorflow) (16.0.6)\n",
            "Requirement already satisfied: numpy<=1.24.3,>=1.22 in /usr/local/lib/python3.10/dist-packages (from tensorflow) (1.23.5)\n",
            "Requirement already satisfied: opt-einsum>=2.3.2 in /usr/local/lib/python3.10/dist-packages (from tensorflow) (3.3.0)\n",
            "Requirement already satisfied: packaging in /usr/local/lib/python3.10/dist-packages (from tensorflow) (23.1)\n",
            "Requirement already satisfied: protobuf!=4.21.0,!=4.21.1,!=4.21.2,!=4.21.3,!=4.21.4,!=4.21.5,<5.0.0dev,>=3.20.3 in /usr/local/lib/python3.10/dist-packages (from tensorflow) (3.20.3)\n",
            "Requirement already satisfied: setuptools in /usr/local/lib/python3.10/dist-packages (from tensorflow) (67.7.2)\n",
            "Requirement already satisfied: six>=1.12.0 in /usr/local/lib/python3.10/dist-packages (from tensorflow) (1.16.0)\n",
            "Requirement already satisfied: tensorboard<2.14,>=2.13 in /usr/local/lib/python3.10/dist-packages (from tensorflow) (2.13.0)\n",
            "Requirement already satisfied: tensorflow-estimator<2.14,>=2.13.0 in /usr/local/lib/python3.10/dist-packages (from tensorflow) (2.13.0)\n",
            "Requirement already satisfied: termcolor>=1.1.0 in /usr/local/lib/python3.10/dist-packages (from tensorflow) (2.3.0)\n",
            "Requirement already satisfied: typing-extensions<4.6.0,>=3.6.6 in /usr/local/lib/python3.10/dist-packages (from tensorflow) (4.5.0)\n",
            "Requirement already satisfied: wrapt>=1.11.0 in /usr/local/lib/python3.10/dist-packages (from tensorflow) (1.15.0)\n",
            "Requirement already satisfied: tensorflow-io-gcs-filesystem>=0.23.1 in /usr/local/lib/python3.10/dist-packages (from tensorflow) (0.33.0)\n",
            "Requirement already satisfied: wheel<1.0,>=0.23.0 in /usr/local/lib/python3.10/dist-packages (from astunparse>=1.6.0->tensorflow) (0.41.2)\n",
            "Requirement already satisfied: google-auth<3,>=1.6.3 in /usr/local/lib/python3.10/dist-packages (from tensorboard<2.14,>=2.13->tensorflow) (2.17.3)\n",
            "Requirement already satisfied: google-auth-oauthlib<1.1,>=0.5 in /usr/local/lib/python3.10/dist-packages (from tensorboard<2.14,>=2.13->tensorflow) (1.0.0)\n",
            "Requirement already satisfied: markdown>=2.6.8 in /usr/local/lib/python3.10/dist-packages (from tensorboard<2.14,>=2.13->tensorflow) (3.4.4)\n",
            "Requirement already satisfied: requests<3,>=2.21.0 in /usr/local/lib/python3.10/dist-packages (from tensorboard<2.14,>=2.13->tensorflow) (2.31.0)\n",
            "Requirement already satisfied: tensorboard-data-server<0.8.0,>=0.7.0 in /usr/local/lib/python3.10/dist-packages (from tensorboard<2.14,>=2.13->tensorflow) (0.7.1)\n",
            "Requirement already satisfied: werkzeug>=1.0.1 in /usr/local/lib/python3.10/dist-packages (from tensorboard<2.14,>=2.13->tensorflow) (2.3.7)\n",
            "Requirement already satisfied: cachetools<6.0,>=2.0.0 in /usr/local/lib/python3.10/dist-packages (from google-auth<3,>=1.6.3->tensorboard<2.14,>=2.13->tensorflow) (5.3.1)\n",
            "Requirement already satisfied: pyasn1-modules>=0.2.1 in /usr/local/lib/python3.10/dist-packages (from google-auth<3,>=1.6.3->tensorboard<2.14,>=2.13->tensorflow) (0.3.0)\n",
            "Requirement already satisfied: rsa<5,>=3.1.4 in /usr/local/lib/python3.10/dist-packages (from google-auth<3,>=1.6.3->tensorboard<2.14,>=2.13->tensorflow) (4.9)\n",
            "Requirement already satisfied: requests-oauthlib>=0.7.0 in /usr/local/lib/python3.10/dist-packages (from google-auth-oauthlib<1.1,>=0.5->tensorboard<2.14,>=2.13->tensorflow) (1.3.1)\n",
            "Requirement already satisfied: charset-normalizer<4,>=2 in /usr/local/lib/python3.10/dist-packages (from requests<3,>=2.21.0->tensorboard<2.14,>=2.13->tensorflow) (3.2.0)\n",
            "Requirement already satisfied: idna<4,>=2.5 in /usr/local/lib/python3.10/dist-packages (from requests<3,>=2.21.0->tensorboard<2.14,>=2.13->tensorflow) (3.4)\n",
            "Requirement already satisfied: urllib3<3,>=1.21.1 in /usr/local/lib/python3.10/dist-packages (from requests<3,>=2.21.0->tensorboard<2.14,>=2.13->tensorflow) (2.0.4)\n",
            "Requirement already satisfied: certifi>=2017.4.17 in /usr/local/lib/python3.10/dist-packages (from requests<3,>=2.21.0->tensorboard<2.14,>=2.13->tensorflow) (2023.7.22)\n",
            "Requirement already satisfied: MarkupSafe>=2.1.1 in /usr/local/lib/python3.10/dist-packages (from werkzeug>=1.0.1->tensorboard<2.14,>=2.13->tensorflow) (2.1.3)\n",
            "Requirement already satisfied: pyasn1<0.6.0,>=0.4.6 in /usr/local/lib/python3.10/dist-packages (from pyasn1-modules>=0.2.1->google-auth<3,>=1.6.3->tensorboard<2.14,>=2.13->tensorflow) (0.5.0)\n",
            "Requirement already satisfied: oauthlib>=3.0.0 in /usr/local/lib/python3.10/dist-packages (from requests-oauthlib>=0.7.0->google-auth-oauthlib<1.1,>=0.5->tensorboard<2.14,>=2.13->tensorflow) (3.2.2)\n"
          ]
        }
      ],
      "source": [
        "!pip install tensorflow"
      ]
    },
    {
      "cell_type": "markdown",
      "source": [
        "Load the training and testing datasets:"
      ],
      "metadata": {
        "id": "FHTlsivZM-E0"
      }
    },
    {
      "cell_type": "code",
      "source": [
        "IMG_SIZE = 224\n",
        "BATCH_SIZE = 50\n",
        "\n",
        "import tensorflow as tf\n",
        "import tensorflow_datasets as tfds\n",
        "\n",
        "data, metadata = tfds.load('cifar10', with_info=True, as_supervised=True)\n",
        "raw_train, raw_test = data['train'].repeat(), data['test'].repeat()"
      ],
      "metadata": {
        "id": "GWsLH2QrNBIK"
      },
      "execution_count": 2,
      "outputs": []
    },
    {
      "cell_type": "markdown",
      "source": [
        "Define the input transformations (per sample) for the training and validation phases:"
      ],
      "metadata": {
        "id": "HJXWH75aNGZ-"
      }
    },
    {
      "cell_type": "code",
      "source": [
        "def train_format_sample(image, label):\n",
        "    \"\"\"Transform data for training\"\"\"\n",
        "    image = tf.cast(image, tf.float32)\n",
        "    image = tf.image.resize(image, (IMG_SIZE, IMG_SIZE))\n",
        "    image = tf.image.random_flip_left_right(image)\n",
        "    image = tf.image.random_flip_up_down(image)\n",
        "\n",
        "    label = tf.one_hot(label, metadata.features['label'].num_classes)\n",
        "\n",
        "    return image, label\n",
        "\n",
        "\n",
        "def test_format_sample(image, label):\n",
        "    \"\"\"Transform data for testing\"\"\"\n",
        "    image = tf.cast(image, tf.float32)\n",
        "    image = tf.image.resize(image, (IMG_SIZE, IMG_SIZE))\n",
        "\n",
        "    label = tf.one_hot(label, metadata.features['label'].num_classes)\n",
        "\n",
        "    return image, label"
      ],
      "metadata": {
        "id": "fXIknCvZNNcD"
      },
      "execution_count": 3,
      "outputs": []
    },
    {
      "cell_type": "markdown",
      "source": [
        "Assign transformers to raw data:"
      ],
      "metadata": {
        "id": "OlcroSo_NSlY"
      }
    },
    {
      "cell_type": "code",
      "source": [
        "train_data = raw_train.map(train_format_sample)\n",
        "test_data = raw_test.map(test_format_sample)"
      ],
      "metadata": {
        "id": "TjudIa1gNVrs"
      },
      "execution_count": 4,
      "outputs": []
    },
    {
      "cell_type": "markdown",
      "source": [
        "Extract batches from the training set:"
      ],
      "metadata": {
        "id": "E1qNtl9JNaqV"
      }
    },
    {
      "cell_type": "code",
      "source": [
        "train_batches = train_data.shuffle(1000).batch(BATCH_SIZE)\n",
        "test_batches = test_data.batch(BATCH_SIZE)"
      ],
      "metadata": {
        "id": "rECzLoW4NdPk"
      },
      "execution_count": 5,
      "outputs": []
    },
    {
      "cell_type": "markdown",
      "source": [
        "Define 2 functions that build transfer learning models for either feature extacting, or fine-tuning. Both models use the tf.keras.applications.MobileNetV3Small ImageNet pretrained model. We’ll start with feature extracting, which “locks” all model parameters (weights) except for the final fully-connected layer:"
      ],
      "metadata": {
        "id": "3jpDuZkxNf2X"
      }
    },
    {
      "cell_type": "code",
      "source": [
        "def build_fe_model():\n",
        "    \"\"\"\"Create feature extraction model from the pre-trained model MobileNetV3Small\"\"\"\n",
        "\n",
        "    # create the pre-trained part of the network, excluding FC layers\n",
        "    base_model = tf.keras.applications.MobileNetV3Small(\n",
        "        input_shape=(IMG_SIZE, IMG_SIZE, 3),\n",
        "        include_top=False,\n",
        "        classes=10,\n",
        "        weights='imagenet',\n",
        "        include_preprocessing=True)\n",
        "\n",
        "    # exclude all model layers from training\n",
        "    base_model.trainable = False\n",
        "\n",
        "    # create new model as a combination of the pre-trained net\n",
        "    # and one fully connected layer at the top\n",
        "    return tf.keras.Sequential([\n",
        "        base_model,\n",
        "        tf.keras.layers.GlobalAveragePooling2D(),\n",
        "        tf.keras.layers.Dense(\n",
        "            metadata.features['label'].num_classes,\n",
        "            activation='softmax')\n",
        "    ])"
      ],
      "metadata": {
        "id": "uZ_iSl0gNqxy"
      },
      "execution_count": 6,
      "outputs": []
    },
    {
      "cell_type": "markdown",
      "source": [
        "Continue with the fine-tuning model, which locks the first `fine_tune_at` layers, but trains all other model parameters:\n"
      ],
      "metadata": {
        "id": "ARfg7w5eNt7e"
      }
    },
    {
      "cell_type": "code",
      "source": [
        "def build_ft_model():\n",
        "    \"\"\"\"Create fine tuning model from the pre-trained model MobileNetV3Small\"\"\"\n",
        "\n",
        "    # create the pre-trained part of the network, excluding FC layers\n",
        "    base_model = tf.keras.applications.MobileNetV3Small(\n",
        "        input_shape=(IMG_SIZE, IMG_SIZE, 3),\n",
        "        include_top=False,\n",
        "        weights='imagenet',\n",
        "        include_preprocessing=True\n",
        "    )\n",
        "\n",
        "    # Fine tune from this layer onwards\n",
        "    fine_tune_at = 100\n",
        "\n",
        "    # Freeze all the layers before the `fine_tune_at` layer\n",
        "    for layer in base_model.layers[:fine_tune_at]:\n",
        "        layer.trainable = False\n",
        "\n",
        "    # create new model as a combination of the pre-trained net\n",
        "    # and one fully connected layer at the top\n",
        "    return tf.keras.Sequential([\n",
        "        base_model,\n",
        "        tf.keras.layers.GlobalAveragePooling2D(),\n",
        "        tf.keras.layers.Dense(\n",
        "            metadata.features['label'].num_classes,\n",
        "            activation='softmax')\n",
        "    ])"
      ],
      "metadata": {
        "id": "NH_zKexzN3CH"
      },
      "execution_count": 7,
      "outputs": []
    },
    {
      "cell_type": "markdown",
      "source": [
        "Define the `train_model` function, which builds takes the pre-built model, fits it over the training data, and plots the training and validation results. The function is shared for both feature extraction and fine-tuning:"
      ],
      "metadata": {
        "id": "nZ2bRRdeN4e0"
      }
    },
    {
      "cell_type": "code",
      "source": [
        "def train_model(model, epochs=5):\n",
        "    \"\"\"Train the model. This function is shared for both FE and FT modes\"\"\"\n",
        "\n",
        "    # configure the model for training\n",
        "    model.compile(\n",
        "        optimizer=tf.keras.optimizers.Adam(\n",
        "            learning_rate=0.0001),\n",
        "        loss='categorical_crossentropy',\n",
        "        metrics=['accuracy'])\n",
        "\n",
        "    # train the model\n",
        "    history = model.fit(\n",
        "        train_batches,\n",
        "        epochs=epochs,\n",
        "        steps_per_epoch=metadata.splits['train'].num_examples // BATCH_SIZE,\n",
        "        validation_data=test_batches,\n",
        "        validation_steps=metadata.splits['test'].num_examples // BATCH_SIZE,\n",
        "        workers=4)\n",
        "\n",
        "    # plot accuracy\n",
        "    plot_accuracy(history.history['val_accuracy'])\n",
        "\n",
        "import matplotlib.pyplot as plt\n",
        "\n",
        "def plot_accuracy(accuracy: list):\n",
        "    \"\"\"Plot accuracy\"\"\"\n",
        "    plt.figure()\n",
        "    plt.plot(accuracy)\n",
        "    plt.xticks(\n",
        "        [i for i in range(0, len(accuracy))],\n",
        "        [i + 1 for i in range(0, len(accuracy))])\n",
        "    plt.ylabel('Accuracy')\n",
        "    plt.xlabel('Epoch')\n",
        "    plt.show()"
      ],
      "metadata": {
        "id": "ZgDYrYxjN8PV"
      },
      "execution_count": 8,
      "outputs": []
    },
    {
      "cell_type": "markdown",
      "source": [
        "We can now run the training procedure. Let's start by building the feature extraction model:"
      ],
      "metadata": {
        "id": "dwOYp-ICOJiA"
      }
    },
    {
      "cell_type": "code",
      "source": [
        "model = build_fe_model()\n",
        "model.summary()"
      ],
      "metadata": {
        "colab": {
          "base_uri": "https://localhost:8080/"
        },
        "id": "g26OCfe-OKe6",
        "outputId": "9f5ecd44-366c-4fca-c5fe-3feecc84a44c"
      },
      "execution_count": 9,
      "outputs": [
        {
          "output_type": "stream",
          "name": "stdout",
          "text": [
            "Model: \"sequential\"\n",
            "_________________________________________________________________\n",
            " Layer (type)                Output Shape              Param #   \n",
            "=================================================================\n",
            " MobilenetV3small (Function  (None, 7, 7, 576)         939120    \n",
            " al)                                                             \n",
            "                                                                 \n",
            " global_average_pooling2d (  (None, 576)               0         \n",
            " GlobalAveragePooling2D)                                         \n",
            "                                                                 \n",
            " dense (Dense)               (None, 10)                5770      \n",
            "                                                                 \n",
            "=================================================================\n",
            "Total params: 944890 (3.60 MB)\n",
            "Trainable params: 5770 (22.54 KB)\n",
            "Non-trainable params: 939120 (3.58 MB)\n",
            "_________________________________________________________________\n"
          ]
        }
      ]
    },
    {
      "cell_type": "markdown",
      "source": [
        "Run the training:"
      ],
      "metadata": {
        "id": "aLkNwftBOak7"
      }
    },
    {
      "cell_type": "code",
      "source": [
        "train_model(model)\n"
      ],
      "metadata": {
        "colab": {
          "base_uri": "https://localhost:8080/",
          "height": 643
        },
        "id": "kmCnxKVvOYqC",
        "outputId": "12ea3ff8-16be-4cd7-d543-a33ccca0aab9"
      },
      "execution_count": 10,
      "outputs": [
        {
          "output_type": "stream",
          "name": "stdout",
          "text": [
            "Epoch 1/5\n",
            "1000/1000 [==============================] - 36s 29ms/step - loss: 1.4821 - accuracy: 0.5125 - val_loss: 0.9105 - val_accuracy: 0.7289\n",
            "Epoch 2/5\n",
            "1000/1000 [==============================] - 27s 27ms/step - loss: 0.9070 - accuracy: 0.7093 - val_loss: 0.6917 - val_accuracy: 0.7849\n",
            "Epoch 3/5\n",
            "1000/1000 [==============================] - 27s 27ms/step - loss: 0.7753 - accuracy: 0.7466 - val_loss: 0.6067 - val_accuracy: 0.8063\n",
            "Epoch 4/5\n",
            "1000/1000 [==============================] - 27s 27ms/step - loss: 0.7087 - accuracy: 0.7649 - val_loss: 0.5626 - val_accuracy: 0.8181\n",
            "Epoch 5/5\n",
            "1000/1000 [==============================] - 27s 27ms/step - loss: 0.6714 - accuracy: 0.7736 - val_loss: 0.5331 - val_accuracy: 0.8258\n"
          ]
        },
        {
          "output_type": "display_data",
          "data": {
            "text/plain": [
              "<Figure size 640x480 with 1 Axes>"
            ],
            "image/png": "[encoded data removed]"
          },
          "metadata": {}
        }
      ]
    },
    {
      "cell_type": "markdown",
      "source": [
        "We can also try the fine-tuning model for comparison:"
      ],
      "metadata": {
        "id": "5Lvcob6DOb-D"
      }
    },
    {
      "cell_type": "code",
      "source": [
        "model = build_ft_model()\n",
        "model.summary()\n",
        "train_model(model)"
      ],
      "metadata": {
        "colab": {
          "base_uri": "https://localhost:8080/",
          "height": 938
        },
        "id": "J8DQQX8bOgeD",
        "outputId": "c14db334-bf31-42d4-d470-2b68e5ba0694"
      },
      "execution_count": 11,
      "outputs": [
        {
          "output_type": "stream",
          "name": "stdout",
          "text": [
            "Model: \"sequential_1\"\n",
            "_________________________________________________________________\n",
            " Layer (type)                Output Shape              Param #   \n",
            "=================================================================\n",
            " MobilenetV3small (Function  (None, 7, 7, 576)         939120    \n",
            " al)                                                             \n",
            "                                                                 \n",
            " global_average_pooling2d_1  (None, 576)               0         \n",
            "  (GlobalAveragePooling2D)                                       \n",
            "                                                                 \n",
            " dense_1 (Dense)             (None, 10)                5770      \n",
            "                                                                 \n",
            "=================================================================\n",
            "Total params: 944890 (3.60 MB)\n",
            "Trainable params: 819306 (3.13 MB)\n",
            "Non-trainable params: 125584 (490.56 KB)\n",
            "_________________________________________________________________\n",
            "Epoch 1/5\n",
            "1000/1000 [==============================] - 52s 33ms/step - loss: 0.6928 - accuracy: 0.7624 - val_loss: 0.5052 - val_accuracy: 0.8238\n",
            "Epoch 2/5\n",
            "1000/1000 [==============================] - 33s 33ms/step - loss: 0.3578 - accuracy: 0.8766 - val_loss: 0.3547 - val_accuracy: 0.8796\n",
            "Epoch 3/5\n",
            "1000/1000 [==============================] - 33s 33ms/step - loss: 0.2790 - accuracy: 0.9056 - val_loss: 0.3008 - val_accuracy: 0.8963\n",
            "Epoch 4/5\n",
            "1000/1000 [==============================] - 33s 33ms/step - loss: 0.2256 - accuracy: 0.9223 - val_loss: 0.2755 - val_accuracy: 0.9054\n",
            "Epoch 5/5\n",
            "1000/1000 [==============================] - 32s 32ms/step - loss: 0.1889 - accuracy: 0.9352 - val_loss: 0.2511 - val_accuracy: 0.9133\n"
          ]
        },
        {
          "output_type": "display_data",
          "data": {
            "text/plain": [
              "<Figure size 640x480 with 1 Axes>"
            ],
            "image/png": "[encoded data removed]"
          },
          "metadata": {}
        }
      ]
    }
  ]
}