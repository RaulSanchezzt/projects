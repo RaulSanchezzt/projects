{
  "nbformat": 4,
  "nbformat_minor": 0,
  "metadata": {
    "colab": {
      "provenance": [],
      "machine_shape": "hm",
      "gpuType": "T4"
    },
    "kernelspec": {
      "name": "python3",
      "display_name": "Python 3"
    },
    "language_info": {
      "name": "python"
    },
    "accelerator": "GPU"
  },
  "cells": [
    {
      "cell_type": "markdown",
      "source": [
        "# Mixed precision transfer learning with PyTorch\n",
        "\n",
        "In this example we'll implement fine-tuning and feature extracting mixed precision transfer learning using the CIFAR-10 dataset.\n",
        "\n",
        "_This example is partially based on_ [https://github.com/pytorch/tutorials/blob/main/beginner_source/transfer_learning_tutorial.py](https://github.com/pytorch/tutorials/blob/main/beginner_source/transfer_learning_tutorial.py).<br/>\n",
        "_The licensing information and the author of the base version are:<br/>\n",
        "License: BSD<br/>\n",
        "Author: Sasank Chilamkurthy_"
      ],
      "metadata": {
        "id": "ER0jmytr6aIU"
      }
    },
    {
      "cell_type": "markdown",
      "source": [],
      "metadata": {
        "id": "9iTSYufnZFBr"
      }
    },
    {
      "cell_type": "code",
      "execution_count": 1,
      "metadata": {
        "colab": {
          "base_uri": "https://localhost:8080/"
        },
        "id": "L_y-OOlO6QF9",
        "outputId": "82687d99-8a6b-4f89-8ccc-1dbadf1a0ac0"
      },
      "outputs": [
        {
          "output_type": "stream",
          "name": "stdout",
          "text": [
            "Requirement already satisfied: torch in /usr/local/lib/python3.10/dist-packages (2.0.1+cu118)\n",
            "Requirement already satisfied: filelock in /usr/local/lib/python3.10/dist-packages (from torch) (3.12.2)\n",
            "Requirement already satisfied: typing-extensions in /usr/local/lib/python3.10/dist-packages (from torch) (4.5.0)\n",
            "Requirement already satisfied: sympy in /usr/local/lib/python3.10/dist-packages (from torch) (1.12)\n",
            "Requirement already satisfied: networkx in /usr/local/lib/python3.10/dist-packages (from torch) (3.1)\n",
            "Requirement already satisfied: jinja2 in /usr/local/lib/python3.10/dist-packages (from torch) (3.1.2)\n",
            "Requirement already satisfied: triton==2.0.0 in /usr/local/lib/python3.10/dist-packages (from torch) (2.0.0)\n",
            "Requirement already satisfied: cmake in /usr/local/lib/python3.10/dist-packages (from triton==2.0.0->torch) (3.27.4.1)\n",
            "Requirement already satisfied: lit in /usr/local/lib/python3.10/dist-packages (from triton==2.0.0->torch) (16.0.6)\n",
            "Requirement already satisfied: MarkupSafe>=2.0 in /usr/local/lib/python3.10/dist-packages (from jinja2->torch) (2.1.3)\n",
            "Requirement already satisfied: mpmath>=0.19 in /usr/local/lib/python3.10/dist-packages (from sympy->torch) (1.3.0)\n",
            "Requirement already satisfied: torchvision in /usr/local/lib/python3.10/dist-packages (0.15.2+cu118)\n",
            "Requirement already satisfied: numpy in /usr/local/lib/python3.10/dist-packages (from torchvision) (1.23.5)\n",
            "Requirement already satisfied: requests in /usr/local/lib/python3.10/dist-packages (from torchvision) (2.31.0)\n",
            "Requirement already satisfied: torch==2.0.1 in /usr/local/lib/python3.10/dist-packages (from torchvision) (2.0.1+cu118)\n",
            "Requirement already satisfied: pillow!=8.3.*,>=5.3.0 in /usr/local/lib/python3.10/dist-packages (from torchvision) (9.4.0)\n",
            "Requirement already satisfied: filelock in /usr/local/lib/python3.10/dist-packages (from torch==2.0.1->torchvision) (3.12.2)\n",
            "Requirement already satisfied: typing-extensions in /usr/local/lib/python3.10/dist-packages (from torch==2.0.1->torchvision) (4.5.0)\n",
            "Requirement already satisfied: sympy in /usr/local/lib/python3.10/dist-packages (from torch==2.0.1->torchvision) (1.12)\n",
            "Requirement already satisfied: networkx in /usr/local/lib/python3.10/dist-packages (from torch==2.0.1->torchvision) (3.1)\n",
            "Requirement already satisfied: jinja2 in /usr/local/lib/python3.10/dist-packages (from torch==2.0.1->torchvision) (3.1.2)\n",
            "Requirement already satisfied: triton==2.0.0 in /usr/local/lib/python3.10/dist-packages (from torch==2.0.1->torchvision) (2.0.0)\n",
            "Requirement already satisfied: cmake in /usr/local/lib/python3.10/dist-packages (from triton==2.0.0->torch==2.0.1->torchvision) (3.27.4.1)\n",
            "Requirement already satisfied: lit in /usr/local/lib/python3.10/dist-packages (from triton==2.0.0->torch==2.0.1->torchvision) (16.0.6)\n",
            "Requirement already satisfied: charset-normalizer<4,>=2 in /usr/local/lib/python3.10/dist-packages (from requests->torchvision) (3.2.0)\n",
            "Requirement already satisfied: idna<4,>=2.5 in /usr/local/lib/python3.10/dist-packages (from requests->torchvision) (3.4)\n",
            "Requirement already satisfied: urllib3<3,>=1.21.1 in /usr/local/lib/python3.10/dist-packages (from requests->torchvision) (2.0.4)\n",
            "Requirement already satisfied: certifi>=2017.4.17 in /usr/local/lib/python3.10/dist-packages (from requests->torchvision) (2023.7.22)\n",
            "Requirement already satisfied: MarkupSafe>=2.0 in /usr/local/lib/python3.10/dist-packages (from jinja2->torch==2.0.1->torchvision) (2.1.3)\n",
            "Requirement already satisfied: mpmath>=0.19 in /usr/local/lib/python3.10/dist-packages (from sympy->torch==2.0.1->torchvision) (1.3.0)\n"
          ]
        }
      ],
      "source": [
        "!pip install torch\n",
        "!pip install torchvision"
      ]
    },
    {
      "cell_type": "markdown",
      "source": [
        "Load the training data (`train_loader`):"
      ],
      "metadata": {
        "id": "G6AliM-g60TO"
      }
    },
    {
      "cell_type": "code",
      "source": [
        "import torch\n",
        "\n",
        "from torch.utils.data import DataLoader\n",
        "from torchvision import datasets\n",
        "from torchvision import transforms\n",
        "\n",
        "batch_size = 50\n",
        "\n",
        "train_data_transform = transforms.Compose([\n",
        "    transforms.Resize(224),\n",
        "    transforms.RandomHorizontalFlip(),\n",
        "    transforms.RandomVerticalFlip(),\n",
        "    transforms.ToTensor(),\n",
        "    transforms.Normalize(\n",
        "        [0.485, 0.456, 0.406],\n",
        "        [0.229, 0.224, 0.225])\n",
        "])\n",
        "\n",
        "train_set = datasets.CIFAR10(\n",
        "    root='data',\n",
        "    train=True,\n",
        "    download=True,\n",
        "    transform=train_data_transform)\n",
        "\n",
        "train_loader = DataLoader(\n",
        "    dataset=train_set,\n",
        "    batch_size=batch_size,\n",
        "    shuffle=True,\n",
        "    num_workers=2)"
      ],
      "metadata": {
        "colab": {
          "base_uri": "https://localhost:8080/"
        },
        "id": "SCZUO9EY63qO",
        "outputId": "7d860e45-e58c-4f36-8e80-56ebc4b14e41"
      },
      "execution_count": 2,
      "outputs": [
        {
          "output_type": "stream",
          "name": "stdout",
          "text": [
            "Files already downloaded and verified\n"
          ]
        }
      ]
    },
    {
      "cell_type": "markdown",
      "source": [
        "Load the training data (train_loader):"
      ],
      "metadata": {
        "id": "4EINgr746-2r"
      }
    },
    {
      "cell_type": "code",
      "source": [
        "val_data_transform = transforms.Compose([\n",
        "    transforms.Resize(224),\n",
        "    transforms.ToTensor(),\n",
        "    transforms.Normalize(\n",
        "        [0.485, 0.456, 0.406],\n",
        "        [0.229, 0.224, 0.225])\n",
        "])\n",
        "\n",
        "val_set = datasets.CIFAR10(\n",
        "    root='data',\n",
        "    train=False,\n",
        "    download=True,\n",
        "    transform=val_data_transform)\n",
        "\n",
        "val_order = DataLoader(\n",
        "    dataset=val_set,\n",
        "    batch_size=batch_size,\n",
        "    shuffle=False,\n",
        "    num_workers=2)"
      ],
      "metadata": {
        "colab": {
          "base_uri": "https://localhost:8080/"
        },
        "id": "u9LcrgF27EQH",
        "outputId": "5d629834-554f-4803-9fcb-7232bfe141cd"
      },
      "execution_count": 3,
      "outputs": [
        {
          "output_type": "stream",
          "name": "stdout",
          "text": [
            "Files already downloaded and verified\n"
          ]
        }
      ]
    },
    {
      "cell_type": "markdown",
      "source": [
        "Select device:"
      ],
      "metadata": {
        "id": "eExec6rr7IYY"
      }
    },
    {
      "cell_type": "code",
      "source": [
        "device = 'cuda' if torch.cuda.is_available() else 'cpu'"
      ],
      "metadata": {
        "id": "E8iAg4B87JuQ"
      },
      "execution_count": 4,
      "outputs": []
    },
    {
      "cell_type": "markdown",
      "source": [
        "Define `train_model` and `test_model` helper functions:"
      ],
      "metadata": {
        "id": "1Tu3Oiz47L-6"
      }
    },
    {
      "cell_type": "code",
      "source": [
        "def train_model(model, loss_function, optimizer, data_loader):\n",
        "    current_loss = 0.0\n",
        "    current_acc = 0\n",
        "\n",
        "    scaler = torch.cuda.amp.GradScaler()\n",
        "\n",
        "    # iterate over the training data\n",
        "    for i, (inputs, labels) in enumerate(data_loader):\n",
        "        # zero the parameter gradients\n",
        "        optimizer.zero_grad()\n",
        "\n",
        "        with torch.autocast(\n",
        "            device_type=device,\n",
        "            dtype=torch.float16):\n",
        "            # send the input/labels to the GPU\n",
        "            inputs = inputs.to(device)\n",
        "            labels = labels.to(device)\n",
        "\n",
        "            # forward\n",
        "            outputs = model(inputs)\n",
        "            _, predictions = torch.max(outputs, 1)\n",
        "            loss = loss_function(outputs, labels)\n",
        "\n",
        "        # backward with scaler\n",
        "        scaler.scale(loss).backward()\n",
        "        scaler.step(optimizer)\n",
        "        scaler.update()\n",
        "\n",
        "        # statistics\n",
        "        current_loss += loss.item() * inputs.size(0)\n",
        "        current_acc += torch.sum(predictions == labels.data)\n",
        "\n",
        "    total_loss = current_loss / len(data_loader.dataset)\n",
        "    total_acc = current_acc.double() / len(data_loader.dataset)\n",
        "\n",
        "    print('Train Loss: {:.4f}; Accuracy: {:.4f}'.format(total_loss, total_acc))\n",
        "\n",
        "\n",
        "def test_model(model, loss_function, data_loader):\n",
        "    current_loss = 0.0\n",
        "    current_acc = 0\n",
        "\n",
        "    # iterate over  the validation data\n",
        "    for i, (inputs, labels) in enumerate(data_loader):\n",
        "        # send the input/labels to the GPU\n",
        "        inputs = inputs.to(device)\n",
        "        labels = labels.to(device)\n",
        "\n",
        "        # forward\n",
        "        outputs = model(inputs)\n",
        "        _, predictions = torch.max(outputs, 1)\n",
        "        loss = loss_function(outputs, labels)\n",
        "\n",
        "        # statistics\n",
        "        current_loss += loss.item() * inputs.size(0)\n",
        "        current_acc += torch.sum(predictions == labels.data)\n",
        "\n",
        "    total_loss = current_loss / len(data_loader.dataset)\n",
        "    total_acc = current_acc.double() / len(data_loader.dataset)\n",
        "\n",
        "    print('Test Loss: {:.4f}; Accuracy: {:.4f}'.format(total_loss, total_acc))\n",
        "\n",
        "    return total_loss, total_acc"
      ],
      "metadata": {
        "id": "-c1jlodd7Qmh"
      },
      "execution_count": 5,
      "outputs": []
    },
    {
      "cell_type": "markdown",
      "source": [
        "Define 2 functions that build transfer learning models for either feature extacting, or fine-tuning. Both models use the `torchvision.models.resnet18` ImageNet pretrained model. We'll start with feature extracting, which \"locks\" all model parameters (weights) except for the final fully-connected layer:\n"
      ],
      "metadata": {
        "id": "UBClXWCl7VK6"
      }
    },
    {
      "cell_type": "code",
      "source": [
        "import torch.nn as nn\n",
        "import torch.optim as optim\n",
        "from torchvision.models import MobileNet_V3_Small_Weights, mobilenet_v3_small\n",
        "\n",
        "\n",
        "def tl_feature_extractor(epochs=5):\n",
        "    # load the pre-trained model\n",
        "    model = mobilenet_v3_small(weights=MobileNet_V3_Small_Weights.IMAGENET1K_V1)\n",
        "\n",
        "    # exclude existing parameters from backward pass\n",
        "    # for performance\n",
        "    for param in model.parameters():\n",
        "        param.requires_grad = False\n",
        "\n",
        "    # newly constructed layers have requires_grad=True by default\n",
        "    num_features = model.classifier[0].in_features\n",
        "    model.classifier = nn.Linear(num_features, 10)\n",
        "\n",
        "    # transfer to GPU (if available)\n",
        "    model = model.to(device)\n",
        "\n",
        "    loss_function = nn.CrossEntropyLoss()\n",
        "\n",
        "    # only parameters of the final layer are being optimized\n",
        "    optimizer = optim.Adam(model.classifier.parameters())\n",
        "\n",
        "    # train\n",
        "    test_acc = list()  # collect accuracy for plotting\n",
        "    for epoch in range(epochs):\n",
        "        print('Epoch {}/{}'.format(epoch + 1, epochs))\n",
        "\n",
        "        train_model(model, loss_function, optimizer, train_loader)\n",
        "        _, acc = test_model(model, loss_function, val_order)\n",
        "        test_acc.append(acc.cpu())\n",
        "\n",
        "    plot_accuracy(test_acc)\n",
        "\n",
        "\n",
        "def tl_fine_tuning(epochs=5):\n",
        "    # load the pre-trained model\n",
        "    model = mobilenet_v3_small(weights=MobileNet_V3_Small_Weights.IMAGENET1K_V1)\n",
        "\n",
        "    # replace the last layer\n",
        "    num_features = model.classifier[0].in_features\n",
        "    model.classifier = nn.Linear(num_features, 10)\n",
        "\n",
        "    # transfer the model to the GPU\n",
        "    model = model.to(device)\n",
        "\n",
        "    # loss function\n",
        "    loss_function = nn.CrossEntropyLoss()\n",
        "\n",
        "    # We'll optimize all parameters\n",
        "    optimizer = optim.Adam(model.parameters())\n",
        "\n",
        "    # train\n",
        "    test_acc = list()  # collect accuracy for plotting\n",
        "    for epoch in range(epochs):\n",
        "        print('Epoch {}/{}'.format(epoch + 1, epochs))\n",
        "\n",
        "        train_model(model, loss_function, optimizer, train_loader)\n",
        "        _, acc = test_model(model, loss_function, val_order)\n",
        "        test_acc.append(acc.cpu())\n",
        "\n",
        "    plot_accuracy(test_acc)"
      ],
      "metadata": {
        "id": "PbcTAgy17hVk"
      },
      "execution_count": 6,
      "outputs": []
    },
    {
      "cell_type": "markdown",
      "source": [
        "Define the `plot_accuracy` function:"
      ],
      "metadata": {
        "id": "Hcj2dF3X7mlL"
      }
    },
    {
      "cell_type": "code",
      "source": [
        "import matplotlib.pyplot as plt\n",
        "\n",
        "\n",
        "def plot_accuracy(accuracy: list):\n",
        "    \"\"\"Plot accuracy\"\"\"\n",
        "    plt.figure()\n",
        "    plt.plot(accuracy)\n",
        "    plt.xticks(\n",
        "        [i for i in range(0, len(accuracy))],\n",
        "        [i + 1 for i in range(0, len(accuracy))])\n",
        "    plt.ylabel('Accuracy')\n",
        "    plt.xlabel('Epoch')\n",
        "    plt.show()"
      ],
      "metadata": {
        "id": "JJJyYipW7s2c"
      },
      "execution_count": 7,
      "outputs": []
    },
    {
      "cell_type": "markdown",
      "source": [
        "Run the feature extractor model first:"
      ],
      "metadata": {
        "id": "k9rsAmR77wGs"
      }
    },
    {
      "cell_type": "code",
      "source": [
        "tl_feature_extractor()"
      ],
      "metadata": {
        "colab": {
          "base_uri": "https://localhost:8080/",
          "height": 709
        },
        "id": "gNRqxvjV71SF",
        "outputId": "e34db21c-8159-4c19-dc47-d7d13f4f92a8"
      },
      "execution_count": 8,
      "outputs": [
        {
          "output_type": "stream",
          "name": "stdout",
          "text": [
            "Epoch 1/5\n",
            "Train Loss: 1.0018; Accuracy: 0.6761\n",
            "Test Loss: 0.7075; Accuracy: 0.7647\n",
            "Epoch 2/5\n",
            "Train Loss: 0.7667; Accuracy: 0.7375\n",
            "Test Loss: 0.6473; Accuracy: 0.7797\n",
            "Epoch 3/5\n",
            "Train Loss: 0.7246; Accuracy: 0.7479\n",
            "Test Loss: 0.6268; Accuracy: 0.7874\n",
            "Epoch 4/5\n",
            "Train Loss: 0.6955; Accuracy: 0.7583\n",
            "Test Loss: 0.6064; Accuracy: 0.7902\n",
            "Epoch 5/5\n",
            "Train Loss: 0.6789; Accuracy: 0.7630\n",
            "Test Loss: 0.5987; Accuracy: 0.7921\n"
          ]
        },
        {
          "output_type": "display_data",
          "data": {
            "text/plain": [
              "<Figure size 640x480 with 1 Axes>"
            ],
            "image/png": "[encoded data removed]"
          },
          "metadata": {}
        }
      ]
    },
    {
      "cell_type": "markdown",
      "source": [
        "Run the fine-tuning model next:"
      ],
      "metadata": {
        "id": "f3VKtr4y9AT0"
      }
    },
    {
      "cell_type": "code",
      "source": [
        "tl_fine_tuning()"
      ],
      "metadata": {
        "colab": {
          "base_uri": "https://localhost:8080/",
          "height": 710
        },
        "id": "FZ8gV41F9CTy",
        "outputId": "5a8e3046-328e-456d-edfe-fd251834fb2c"
      },
      "execution_count": 9,
      "outputs": [
        {
          "output_type": "stream",
          "name": "stdout",
          "text": [
            "Epoch 1/5\n",
            "Train Loss: 0.5283; Accuracy: 0.8162\n",
            "Test Loss: 0.3635; Accuracy: 0.8739\n",
            "Epoch 2/5\n",
            "Train Loss: 0.3135; Accuracy: 0.8914\n",
            "Test Loss: 0.3288; Accuracy: 0.8886\n",
            "Epoch 3/5\n",
            "Train Loss: 0.2497; Accuracy: 0.9125\n",
            "Test Loss: 0.2956; Accuracy: 0.9019\n",
            "Epoch 4/5\n",
            "Train Loss: 0.2148; Accuracy: 0.9243\n",
            "Test Loss: 0.2854; Accuracy: 0.9039\n",
            "Epoch 5/5\n",
            "Train Loss: 0.1818; Accuracy: 0.9363\n",
            "Test Loss: 0.2920; Accuracy: 0.9014\n"
          ]
        },
        {
          "output_type": "display_data",
          "data": {
            "text/plain": [
              "<Figure size 640x480 with 1 Axes>"
            ],
            "image/png": "[encoded data removed]"
          },
          "metadata": {}
        }
      ]
    }
  ]
}