{
 "nbformat": 4,
 "nbformat_minor": 0,
 "metadata": {
  "colab": {
   "provenance": []
  },
  "kernelspec": {
   "name": "python3",
   "display_name": "Python 3"
  },
  "language_info": {
   "name": "python"
  },
  "accelerator": "GPU",
  "gpuClass": "standard",
  "widgets": {
   "application/vnd.jupyter.widget-state+json": {
    "c018aa837d074bbc96e60a5087cc05d6": {
     "model_module": "@jupyter-widgets/controls",
     "model_name": "HBoxModel",
     "model_module_version": "1.5.0",
     "state": {
      "_dom_classes": [],
      "_model_module": "@jupyter-widgets/controls",
      "_model_module_version": "1.5.0",
      "_model_name": "HBoxModel",
      "_view_count": null,
      "_view_module": "@jupyter-widgets/controls",
      "_view_module_version": "1.5.0",
      "_view_name": "HBoxView",
      "box_style": "",
      "children": [
       "IPY_MODEL_2bba5fe9540e47a9a170bbdd738b63d2",
       "IPY_MODEL_1027b505592e48d18231c67db37efa7b",
       "IPY_MODEL_7239f8e33f3142a2982778e4326fae78"
      ],
      "layout": "IPY_MODEL_fbdb555f2ffa4f2995b46d51ac799937"
     }
    },
    "2bba5fe9540e47a9a170bbdd738b63d2": {
     "model_module": "@jupyter-widgets/controls",
     "model_name": "HTMLModel",
     "model_module_version": "1.5.0",
     "state": {
      "_dom_classes": [],
      "_model_module": "@jupyter-widgets/controls",
      "_model_module_version": "1.5.0",
      "_model_name": "HTMLModel",
      "_view_count": null,
      "_view_module": "@jupyter-widgets/controls",
      "_view_module_version": "1.5.0",
      "_view_name": "HTMLView",
      "description": "",
      "description_tooltip": null,
      "layout": "IPY_MODEL_a2ba4412313f47658cfc261b35bba34e",
      "placeholder": "​",
      "style": "IPY_MODEL_a6b31c7df56240a2970dec97e1460d47",
      "value": "100%"
     }
    },
    "1027b505592e48d18231c67db37efa7b": {
     "model_module": "@jupyter-widgets/controls",
     "model_name": "FloatProgressModel",
     "model_module_version": "1.5.0",
     "state": {
      "_dom_classes": [],
      "_model_module": "@jupyter-widgets/controls",
      "_model_module_version": "1.5.0",
      "_model_name": "FloatProgressModel",
      "_view_count": null,
      "_view_module": "@jupyter-widgets/controls",
      "_view_module_version": "1.5.0",
      "_view_name": "ProgressView",
      "bar_style": "success",
      "description": "",
      "description_tooltip": null,
      "layout": "IPY_MODEL_2c0b52e543504aa78a0b8121f2533648",
      "max": 170498071,
      "min": 0,
      "orientation": "horizontal",
      "style": "IPY_MODEL_9548b7bdb2494853ba32611a3584481b",
      "value": 170498071
     }
    },
    "7239f8e33f3142a2982778e4326fae78": {
     "model_module": "@jupyter-widgets/controls",
     "model_name": "HTMLModel",
     "model_module_version": "1.5.0",
     "state": {
      "_dom_classes": [],
      "_model_module": "@jupyter-widgets/controls",
      "_model_module_version": "1.5.0",
      "_model_name": "HTMLModel",
      "_view_count": null,
      "_view_module": "@jupyter-widgets/controls",
      "_view_module_version": "1.5.0",
      "_view_name": "HTMLView",
      "description": "",
      "description_tooltip": null,
      "layout": "IPY_MODEL_bf55d3ac9c694988b9612eab00c4e906",
      "placeholder": "​",
      "style": "IPY_MODEL_3f4f0af6256d45139fbf399b9c5317bc",
      "value": " 170498071/170498071 [00:02&lt;00:00, 86702245.11it/s]"
     }
    },
    "fbdb555f2ffa4f2995b46d51ac799937": {
     "model_module": "@jupyter-widgets/base",
     "model_name": "LayoutModel",
     "model_module_version": "1.2.0",
     "state": {
      "_model_module": "@jupyter-widgets/base",
      "_model_module_version": "1.2.0",
      "_model_name": "LayoutModel",
      "_view_count": null,
      "_view_module": "@jupyter-widgets/base",
      "_view_module_version": "1.2.0",
      "_view_name": "LayoutView",
      "align_content": null,
      "align_items": null,
      "align_self": null,
      "border": null,
      "bottom": null,
      "display": null,
      "flex": null,
      "flex_flow": null,
      "grid_area": null,
      "grid_auto_columns": null,
      "grid_auto_flow": null,
      "grid_auto_rows": null,
      "grid_column": null,
      "grid_gap": null,
      "grid_row": null,
      "grid_template_areas": null,
      "grid_template_columns": null,
      "grid_template_rows": null,
      "height": null,
      "justify_content": null,
      "justify_items": null,
      "left": null,
      "margin": null,
      "max_height": null,
      "max_width": null,
      "min_height": null,
      "min_width": null,
      "object_fit": null,
      "object_position": null,
      "order": null,
      "overflow": null,
      "overflow_x": null,
      "overflow_y": null,
      "padding": null,
      "right": null,
      "top": null,
      "visibility": null,
      "width": null
     }
    },
    "a2ba4412313f47658cfc261b35bba34e": {
     "model_module": "@jupyter-widgets/base",
     "model_name": "LayoutModel",
     "model_module_version": "1.2.0",
     "state": {
      "_model_module": "@jupyter-widgets/base",
      "_model_module_version": "1.2.0",
      "_model_name": "LayoutModel",
      "_view_count": null,
      "_view_module": "@jupyter-widgets/base",
      "_view_module_version": "1.2.0",
      "_view_name": "LayoutView",
      "align_content": null,
      "align_items": null,
      "align_self": null,
      "border": null,
      "bottom": null,
      "display": null,
      "flex": null,
      "flex_flow": null,
      "grid_area": null,
      "grid_auto_columns": null,
      "grid_auto_flow": null,
      "grid_auto_rows": null,
      "grid_column": null,
      "grid_gap": null,
      "grid_row": null,
      "grid_template_areas": null,
      "grid_template_columns": null,
      "grid_template_rows": null,
      "height": null,
      "justify_content": null,
      "justify_items": null,
      "left": null,
      "margin": null,
      "max_height": null,
      "max_width": null,
      "min_height": null,
      "min_width": null,
      "object_fit": null,
      "object_position": null,
      "order": null,
      "overflow": null,
      "overflow_x": null,
      "overflow_y": null,
      "padding": null,
      "right": null,
      "top": null,
      "visibility": null,
      "width": null
     }
    },
    "a6b31c7df56240a2970dec97e1460d47": {
     "model_module": "@jupyter-widgets/controls",
     "model_name": "DescriptionStyleModel",
     "model_module_version": "1.5.0",
     "state": {
      "_model_module": "@jupyter-widgets/controls",
      "_model_module_version": "1.5.0",
      "_model_name": "DescriptionStyleModel",
      "_view_count": null,
      "_view_module": "@jupyter-widgets/base",
      "_view_module_version": "1.2.0",
      "_view_name": "StyleView",
      "description_width": ""
     }
    },
    "2c0b52e543504aa78a0b8121f2533648": {
     "model_module": "@jupyter-widgets/base",
     "model_name": "LayoutModel",
     "model_module_version": "1.2.0",
     "state": {
      "_model_module": "@jupyter-widgets/base",
      "_model_module_version": "1.2.0",
      "_model_name": "LayoutModel",
      "_view_count": null,
      "_view_module": "@jupyter-widgets/base",
      "_view_module_version": "1.2.0",
      "_view_name": "LayoutView",
      "align_content": null,
      "align_items": null,
      "align_self": null,
      "border": null,
      "bottom": null,
      "display": null,
      "flex": null,
      "flex_flow": null,
      "grid_area": null,
      "grid_auto_columns": null,
      "grid_auto_flow": null,
      "grid_auto_rows": null,
      "grid_column": null,
      "grid_gap": null,
      "grid_row": null,
      "grid_template_areas": null,
      "grid_template_columns": null,
      "grid_template_rows": null,
      "height": null,
      "justify_content": null,
      "justify_items": null,
      "left": null,
      "margin": null,
      "max_height": null,
      "max_width": null,
      "min_height": null,
      "min_width": null,
      "object_fit": null,
      "object_position": null,
      "order": null,
      "overflow": null,
      "overflow_x": null,
      "overflow_y": null,
      "padding": null,
      "right": null,
      "top": null,
      "visibility": null,
      "width": null
     }
    },
    "9548b7bdb2494853ba32611a3584481b": {
     "model_module": "@jupyter-widgets/controls",
     "model_name": "ProgressStyleModel",
     "model_module_version": "1.5.0",
     "state": {
      "_model_module": "@jupyter-widgets/controls",
      "_model_module_version": "1.5.0",
      "_model_name": "ProgressStyleModel",
      "_view_count": null,
      "_view_module": "@jupyter-widgets/base",
      "_view_module_version": "1.2.0",
      "_view_name": "StyleView",
      "bar_color": null,
      "description_width": ""
     }
    },
    "bf55d3ac9c694988b9612eab00c4e906": {
     "model_module": "@jupyter-widgets/base",
     "model_name": "LayoutModel",
     "model_module_version": "1.2.0",
     "state": {
      "_model_module": "@jupyter-widgets/base",
      "_model_module_version": "1.2.0",
      "_model_name": "LayoutModel",
      "_view_count": null,
      "_view_module": "@jupyter-widgets/base",
      "_view_module_version": "1.2.0",
      "_view_name": "LayoutView",
      "align_content": null,
      "align_items": null,
      "align_self": null,
      "border": null,
      "bottom": null,
      "display": null,
      "flex": null,
      "flex_flow": null,
      "grid_area": null,
      "grid_auto_columns": null,
      "grid_auto_flow": null,
      "grid_auto_rows": null,
      "grid_column": null,
      "grid_gap": null,
      "grid_row": null,
      "grid_template_areas": null,
      "grid_template_columns": null,
      "grid_template_rows": null,
      "height": null,
      "justify_content": null,
      "justify_items": null,
      "left": null,
      "margin": null,
      "max_height": null,
      "max_width": null,
      "min_height": null,
      "min_width": null,
      "object_fit": null,
      "object_position": null,
      "order": null,
      "overflow": null,
      "overflow_x": null,
      "overflow_y": null,
      "padding": null,
      "right": null,
      "top": null,
      "visibility": null,
      "width": null
     }
    },
    "3f4f0af6256d45139fbf399b9c5317bc": {
     "model_module": "@jupyter-widgets/controls",
     "model_name": "DescriptionStyleModel",
     "model_module_version": "1.5.0",
     "state": {
      "_model_module": "@jupyter-widgets/controls",
      "_model_module_version": "1.5.0",
      "_model_name": "DescriptionStyleModel",
      "_view_count": null,
      "_view_module": "@jupyter-widgets/base",
      "_view_module_version": "1.2.0",
      "_view_name": "StyleView",
      "description_width": ""
     }
    }
   }
  }
 },
 "cells": [
  {
   "cell_type": "markdown",
   "source": [
    "We'll start by selecting device (GPU with fallback on CPU):"
   ],
   "metadata": {
    "id": "U3V-qqRyXWoI"
   }
  },
  {
   "cell_type": "code",
   "source": [
    "import torch\n",
    "\n",
    "device = torch.device(\"cuda:0\" if torch.cuda.is_available() else \"cpu\")"
   ],
   "metadata": {
    "id": "wAUUHRytXihG"
   },
   "execution_count": 1,
   "outputs": []
  },
  {
   "cell_type": "markdown",
   "source": [
    "Load the training dataset `train_data` with data augmentation `train_transform` and batch loader `train_loader`:"
   ],
   "metadata": {
    "id": "SWTGPysXXru1"
   }
  },
  {
   "cell_type": "code",
   "source": [
    "import torchvision.transforms as transforms\n",
    "from torchvision import datasets\n",
    "from torch.utils.data import DataLoader\n",
    "\n",
    "# Training dataset\n",
    "train_transform = transforms.Compose([\n",
    "    transforms.RandomHorizontalFlip(),\n",
    "    transforms.RandomVerticalFlip(),\n",
    "    transforms.ToTensor(),\n",
    "    transforms.Normalize(\n",
    "        [0.485, 0.456, 0.406],\n",
    "        [0.229, 0.224, 0.225])\n",
    "])\n",
    "\n",
    "train_data = datasets.CIFAR10(\n",
    "    root='data',\n",
    "    train=True,\n",
    "    download=True,\n",
    "    transform=train_transform)\n",
    "\n",
    "batch_size = 50\n",
    "train_loader = DataLoader(\n",
    "    dataset=train_data,\n",
    "    batch_size=batch_size,\n",
    "    shuffle=True,\n",
    "    num_workers=2)"
   ],
   "metadata": {
    "colab": {
     "base_uri": "https://localhost:8080/",
     "height": 84,
     "referenced_widgets": [
      "c018aa837d074bbc96e60a5087cc05d6",
      "2bba5fe9540e47a9a170bbdd738b63d2",
      "1027b505592e48d18231c67db37efa7b",
      "7239f8e33f3142a2982778e4326fae78",
      "fbdb555f2ffa4f2995b46d51ac799937",
      "a2ba4412313f47658cfc261b35bba34e",
      "a6b31c7df56240a2970dec97e1460d47",
      "2c0b52e543504aa78a0b8121f2533648",
      "9548b7bdb2494853ba32611a3584481b",
      "bf55d3ac9c694988b9612eab00c4e906",
      "3f4f0af6256d45139fbf399b9c5317bc"
     ]
    },
    "id": "9T_rRLlSX9zf",
    "outputId": "8b1fe543-a984-4d4a-f4cf-c671b13c8a22"
   },
   "execution_count": 3,
   "outputs": [
    {
     "output_type": "stream",
     "name": "stdout",
     "text": [
      "Downloading https://www.cs.toronto.edu/~kriz/cifar-10-python.tar.gz to data/cifar-10-python.tar.gz\n"
     ]
    },
    {
     "output_type": "display_data",
     "data": {
      "text/plain": [
       "  0%|          | 0/170498071 [00:00<?, ?it/s]"
      ],
      "application/vnd.jupyter.widget-view+json": {
       "version_major": 2,
       "version_minor": 0,
       "model_id": "c018aa837d074bbc96e60a5087cc05d6"
      }
     },
     "metadata": {}
    },
    {
     "output_type": "stream",
     "name": "stdout",
     "text": [
      "Extracting data/cifar-10-python.tar.gz to data\n"
     ]
    }
   ]
  },
  {
   "cell_type": "markdown",
   "source": [
    "Load the validation dataset (no augmentations for validation):"
   ],
   "metadata": {
    "id": "U68QzudIYGUg"
   }
  },
  {
   "cell_type": "code",
   "source": [
    "validation_transform = transforms.Compose([\n",
    "    transforms.ToTensor(),\n",
    "    transforms.Normalize(\n",
    "        [0.485, 0.456, 0.406],\n",
    "        [0.229, 0.224, 0.225])\n",
    "])\n",
    "\n",
    "validation_data = datasets.CIFAR10(\n",
    "    root='data',\n",
    "    train=False,\n",
    "    download=True,\n",
    "    transform=validation_transform)\n",
    "\n",
    "validation_loader = DataLoader(\n",
    "    dataset=validation_data,\n",
    "    batch_size=100,\n",
    "    shuffle=True)"
   ],
   "metadata": {
    "colab": {
     "base_uri": "https://localhost:8080/"
    },
    "id": "31ll_bZkYJj4",
    "outputId": "a107d3ea-4638-4aeb-cd05-6f8df37100a1"
   },
   "execution_count": 4,
   "outputs": [
    {
     "output_type": "stream",
     "name": "stdout",
     "text": [
      "Files already downloaded and verified\n"
     ]
    }
   ]
  },
  {
   "cell_type": "markdown",
   "source": [
    "Define the CNN model:"
   ],
   "metadata": {
    "id": "zIEpEHr0YMqw"
   }
  },
  {
   "cell_type": "code",
   "source": [
    "torch.manual_seed(1234)\n",
    "classes = 10\n",
    "\n",
    "from torch.nn import Sequential, Conv2d, BatchNorm2d, GELU, MaxPool2d, Dropout2d, Linear, Flatten\n",
    "\n",
    "model = Sequential(\n",
    "    Conv2d(in_channels=3, out_channels=32,\n",
    "           kernel_size=3, padding=1),\n",
    "    BatchNorm2d(32),\n",
    "    GELU(),\n",
    "    Conv2d(in_channels=32, out_channels=32,\n",
    "           kernel_size=3, padding=1),\n",
    "    BatchNorm2d(32),\n",
    "    GELU(),\n",
    "    MaxPool2d(kernel_size=2, stride=2),\n",
    "    Dropout2d(0.2),\n",
    "\n",
    "    Conv2d(in_channels=32, out_channels=64,\n",
    "           kernel_size=3, padding=1),\n",
    "    BatchNorm2d(64),\n",
    "    GELU(),\n",
    "    Conv2d(in_channels=64, out_channels=64,\n",
    "           kernel_size=3, padding=1),\n",
    "    BatchNorm2d(64),\n",
    "    GELU(),\n",
    "    MaxPool2d(kernel_size=2, stride=2),\n",
    "    Dropout2d(p=0.3),\n",
    "\n",
    "    Conv2d(in_channels=64, out_channels=128,\n",
    "           kernel_size=3),\n",
    "    BatchNorm2d(128),\n",
    "    GELU(),\n",
    "    Conv2d(in_channels=128, out_channels=128,\n",
    "           kernel_size=3),\n",
    "    BatchNorm2d(128),\n",
    "    GELU(),\n",
    "    MaxPool2d(kernel_size=2, stride=2),\n",
    "    Dropout2d(p=0.5),\n",
    "    Flatten(),\n",
    "\n",
    "    Linear(512, classes),\n",
    ")"
   ],
   "metadata": {
    "id": "ThA_DTuqYOgT"
   },
   "execution_count": 5,
   "outputs": []
  },
  {
   "cell_type": "markdown",
   "source": [
    "Define the `train_model` function, which implements the training:"
   ],
   "metadata": {
    "id": "lBJZYtp-YUNK"
   }
  },
  {
   "cell_type": "code",
   "source": [
    "def train_model(model, cost_function, optimizer, data_loader):\n",
    "    # send the model to the GPU\n",
    "    model.to(device)\n",
    "\n",
    "    # set model to training mode\n",
    "    model.train()\n",
    "\n",
    "    current_loss = 0.0\n",
    "    current_acc = 0\n",
    "\n",
    "    # iterate over the training data\n",
    "    for i, (inputs, labels) in enumerate(data_loader):\n",
    "        # send the input/labels to the GPU\n",
    "        inputs = inputs.to(device)\n",
    "        labels = labels.to(device)\n",
    "\n",
    "        # zero the parameter gradients\n",
    "        optimizer.zero_grad()\n",
    "\n",
    "        with torch.set_grad_enabled(True):\n",
    "            # forward\n",
    "            outputs = model(inputs)\n",
    "            _, predictions = torch.max(outputs, 1)\n",
    "            loss = cost_function(outputs, labels)\n",
    "\n",
    "            # backward\n",
    "            loss.backward()\n",
    "            optimizer.step()\n",
    "\n",
    "        # statistics\n",
    "        current_loss += loss.item() * inputs.size(0)\n",
    "        current_acc += torch.sum(predictions == labels.data)\n",
    "\n",
    "    total_loss = current_loss / len(data_loader.dataset)\n",
    "    total_acc = current_acc.double() / len(data_loader.dataset)\n",
    "\n",
    "    print('Train Loss: {:.4f}; Accuracy: {:.4f}'.format(total_loss, total_acc))"
   ],
   "metadata": {
    "id": "rI0V-_2SYX2h"
   },
   "execution_count": 6,
   "outputs": []
  },
  {
   "cell_type": "markdown",
   "source": [
    "Define the `test_model` function, which implements the testing:"
   ],
   "metadata": {
    "id": "rK-qn3jgYaUp"
   }
  },
  {
   "cell_type": "code",
   "source": [
    "def test_model(model, cost_function, data_loader):\n",
    "    # send the model to the GPU\n",
    "    model.to(device)\n",
    "\n",
    "    # set model in evaluation mode\n",
    "    model.eval()\n",
    "\n",
    "    current_loss = 0.0\n",
    "    current_acc = 0\n",
    "\n",
    "    # iterate over  the validation data\n",
    "    for i, (inputs, labels) in enumerate(data_loader):\n",
    "        # send the input/labels to the GPU\n",
    "        inputs = inputs.to(device)\n",
    "        labels = labels.to(device)\n",
    "\n",
    "        # forward\n",
    "        with torch.set_grad_enabled(False):\n",
    "            outputs = model(inputs)\n",
    "            _, predictions = torch.max(outputs, 1)\n",
    "            loss = cost_function(outputs, labels)\n",
    "\n",
    "        # statistics\n",
    "        current_loss += loss.item() * inputs.size(0)\n",
    "        current_acc += torch.sum(predictions == labels.data)\n",
    "\n",
    "    total_loss = current_loss / len(data_loader.dataset)\n",
    "    total_acc = current_acc.double() / len(data_loader.dataset)\n",
    "\n",
    "    print('Test Loss: {:.4f}; Accuracy: {:.4f}'.format(total_loss, total_acc))\n",
    "\n",
    "    return total_loss, total_acc"
   ],
   "metadata": {
    "id": "v_Lpo_AtYl6S"
   },
   "execution_count": 7,
   "outputs": []
  },
  {
   "cell_type": "markdown",
   "source": [
    "Run the training and the validation for 50 epochs:"
   ],
   "metadata": {
    "id": "zMzf-PRBYnvO"
   }
  },
  {
   "cell_type": "code",
   "source": [
    "cost_func = torch.nn.CrossEntropyLoss()\n",
    "optimizer = torch.optim.Adam(model.parameters())\n",
    "\n",
    "epochs = 50\n",
    "for epoch in range(epochs):\n",
    "    print('Epoch {}/{}'.format(epoch + 1, epochs))\n",
    "    train_model(model, cost_func, optimizer, train_loader)\n",
    "    test_model(model, cost_func, validation_loader)"
   ],
   "metadata": {
    "colab": {
     "base_uri": "https://localhost:8080/"
    },
    "id": "ZCljBS4MYs-b",
    "outputId": "ce925d68-3cc4-4df1-87f2-bedb060eccb3"
   },
   "execution_count": 9,
   "outputs": [
    {
     "output_type": "stream",
     "name": "stdout",
     "text": [
      "Epoch 1/50\n",
      "Train Loss: 1.5010; Accuracy: 0.4520\n",
      "Test Loss: 1.2324; Accuracy: 0.5515\n",
      "Epoch 2/50\n",
      "Train Loss: 1.2727; Accuracy: 0.5405\n",
      "Test Loss: 1.0233; Accuracy: 0.6329\n",
      "Epoch 3/50\n",
      "Train Loss: 1.1460; Accuracy: 0.5921\n",
      "Test Loss: 0.9249; Accuracy: 0.6709\n",
      "Epoch 4/50\n",
      "Train Loss: 1.0693; Accuracy: 0.6215\n",
      "Test Loss: 0.8772; Accuracy: 0.6865\n",
      "Epoch 5/50\n",
      "Train Loss: 0.9984; Accuracy: 0.6465\n",
      "Test Loss: 0.8195; Accuracy: 0.7068\n",
      "Epoch 6/50\n",
      "Train Loss: 0.9457; Accuracy: 0.6675\n",
      "Test Loss: 0.7756; Accuracy: 0.7247\n",
      "Epoch 7/50\n",
      "Train Loss: 0.9080; Accuracy: 0.6772\n",
      "Test Loss: 0.7568; Accuracy: 0.7317\n",
      "Epoch 8/50\n",
      "Train Loss: 0.8747; Accuracy: 0.6910\n",
      "Test Loss: 0.7175; Accuracy: 0.7467\n",
      "Epoch 9/50\n",
      "Train Loss: 0.8480; Accuracy: 0.7016\n",
      "Test Loss: 0.6941; Accuracy: 0.7530\n",
      "Epoch 10/50\n",
      "Train Loss: 0.8285; Accuracy: 0.7094\n",
      "Test Loss: 0.6840; Accuracy: 0.7540\n",
      "Epoch 11/50\n",
      "Train Loss: 0.7989; Accuracy: 0.7190\n",
      "Test Loss: 0.6685; Accuracy: 0.7647\n",
      "Epoch 12/50\n",
      "Train Loss: 0.7865; Accuracy: 0.7256\n",
      "Test Loss: 0.6530; Accuracy: 0.7651\n",
      "Epoch 13/50\n",
      "Train Loss: 0.7692; Accuracy: 0.7318\n",
      "Test Loss: 0.6189; Accuracy: 0.7810\n",
      "Epoch 14/50\n",
      "Train Loss: 0.7524; Accuracy: 0.7369\n",
      "Test Loss: 0.6189; Accuracy: 0.7826\n",
      "Epoch 15/50\n",
      "Train Loss: 0.7406; Accuracy: 0.7415\n",
      "Test Loss: 0.6095; Accuracy: 0.7832\n",
      "Epoch 16/50\n",
      "Train Loss: 0.7283; Accuracy: 0.7445\n",
      "Test Loss: 0.5981; Accuracy: 0.7885\n",
      "Epoch 17/50\n",
      "Train Loss: 0.7197; Accuracy: 0.7493\n",
      "Test Loss: 0.5925; Accuracy: 0.7921\n",
      "Epoch 18/50\n",
      "Train Loss: 0.7110; Accuracy: 0.7511\n",
      "Test Loss: 0.5860; Accuracy: 0.7942\n",
      "Epoch 19/50\n",
      "Train Loss: 0.6908; Accuracy: 0.7585\n",
      "Test Loss: 0.5621; Accuracy: 0.8048\n",
      "Epoch 20/50\n",
      "Train Loss: 0.6957; Accuracy: 0.7576\n",
      "Test Loss: 0.5642; Accuracy: 0.8051\n",
      "Epoch 21/50\n",
      "Train Loss: 0.6801; Accuracy: 0.7619\n",
      "Test Loss: 0.5597; Accuracy: 0.8022\n",
      "Epoch 22/50\n",
      "Train Loss: 0.6752; Accuracy: 0.7654\n",
      "Test Loss: 0.5498; Accuracy: 0.8080\n",
      "Epoch 23/50\n",
      "Train Loss: 0.6710; Accuracy: 0.7677\n",
      "Test Loss: 0.5490; Accuracy: 0.8065\n",
      "Epoch 24/50\n",
      "Train Loss: 0.6576; Accuracy: 0.7706\n",
      "Test Loss: 0.5375; Accuracy: 0.8119\n",
      "Epoch 25/50\n",
      "Train Loss: 0.6500; Accuracy: 0.7735\n",
      "Test Loss: 0.5336; Accuracy: 0.8147\n",
      "Epoch 26/50\n",
      "Train Loss: 0.6477; Accuracy: 0.7757\n",
      "Test Loss: 0.5260; Accuracy: 0.8140\n",
      "Epoch 27/50\n",
      "Train Loss: 0.6411; Accuracy: 0.7777\n",
      "Test Loss: 0.5246; Accuracy: 0.8154\n",
      "Epoch 28/50\n",
      "Train Loss: 0.6343; Accuracy: 0.7812\n",
      "Test Loss: 0.5276; Accuracy: 0.8162\n",
      "Epoch 29/50\n",
      "Train Loss: 0.6268; Accuracy: 0.7822\n",
      "Test Loss: 0.5132; Accuracy: 0.8198\n",
      "Epoch 30/50\n",
      "Train Loss: 0.6275; Accuracy: 0.7819\n",
      "Test Loss: 0.5139; Accuracy: 0.8204\n",
      "Epoch 31/50\n",
      "Train Loss: 0.6218; Accuracy: 0.7854\n",
      "Test Loss: 0.5159; Accuracy: 0.8192\n",
      "Epoch 32/50\n",
      "Train Loss: 0.6116; Accuracy: 0.7853\n",
      "Test Loss: 0.5098; Accuracy: 0.8246\n",
      "Epoch 33/50\n",
      "Train Loss: 0.6111; Accuracy: 0.7850\n",
      "Test Loss: 0.5078; Accuracy: 0.8233\n",
      "Epoch 34/50\n",
      "Train Loss: 0.6063; Accuracy: 0.7916\n",
      "Test Loss: 0.5063; Accuracy: 0.8255\n",
      "Epoch 35/50\n",
      "Train Loss: 0.5944; Accuracy: 0.7944\n",
      "Test Loss: 0.5132; Accuracy: 0.8206\n",
      "Epoch 36/50\n",
      "Train Loss: 0.5977; Accuracy: 0.7928\n",
      "Test Loss: 0.5049; Accuracy: 0.8245\n",
      "Epoch 37/50\n",
      "Train Loss: 0.5921; Accuracy: 0.7945\n",
      "Test Loss: 0.4924; Accuracy: 0.8259\n",
      "Epoch 38/50\n",
      "Train Loss: 0.5909; Accuracy: 0.7954\n",
      "Test Loss: 0.4910; Accuracy: 0.8293\n",
      "Epoch 39/50\n",
      "Train Loss: 0.5872; Accuracy: 0.7942\n",
      "Test Loss: 0.4964; Accuracy: 0.8281\n",
      "Epoch 40/50\n",
      "Train Loss: 0.5778; Accuracy: 0.7975\n",
      "Test Loss: 0.4952; Accuracy: 0.8280\n",
      "Epoch 41/50\n",
      "Train Loss: 0.5806; Accuracy: 0.7979\n",
      "Test Loss: 0.4990; Accuracy: 0.8247\n",
      "Epoch 42/50\n",
      "Train Loss: 0.5787; Accuracy: 0.7986\n",
      "Test Loss: 0.4824; Accuracy: 0.8314\n",
      "Epoch 43/50\n",
      "Train Loss: 0.5770; Accuracy: 0.8003\n",
      "Test Loss: 0.4865; Accuracy: 0.8315\n",
      "Epoch 44/50\n",
      "Train Loss: 0.5721; Accuracy: 0.7992\n",
      "Test Loss: 0.4797; Accuracy: 0.8329\n",
      "Epoch 45/50\n",
      "Train Loss: 0.5666; Accuracy: 0.8032\n",
      "Test Loss: 0.4826; Accuracy: 0.8326\n",
      "Epoch 46/50\n",
      "Train Loss: 0.5685; Accuracy: 0.8026\n",
      "Test Loss: 0.4778; Accuracy: 0.8339\n",
      "Epoch 47/50\n",
      "Train Loss: 0.5622; Accuracy: 0.8034\n",
      "Test Loss: 0.4743; Accuracy: 0.8344\n",
      "Epoch 48/50\n",
      "Train Loss: 0.5604; Accuracy: 0.8058\n",
      "Test Loss: 0.4820; Accuracy: 0.8322\n",
      "Epoch 49/50\n",
      "Train Loss: 0.5588; Accuracy: 0.8059\n",
      "Test Loss: 0.4807; Accuracy: 0.8347\n",
      "Epoch 50/50\n",
      "Train Loss: 0.5649; Accuracy: 0.8038\n",
      "Test Loss: 0.4764; Accuracy: 0.8365\n"
     ]
    }
   ]
  }
 ]
}
