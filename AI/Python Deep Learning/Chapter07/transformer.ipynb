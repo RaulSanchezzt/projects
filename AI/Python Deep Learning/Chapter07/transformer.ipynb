{
  "nbformat": 4,
  "nbformat_minor": 0,
  "metadata": {
    "colab": {
      "provenance": []
    },
    "kernelspec": {
      "name": "python3",
      "display_name": "Python 3"
    },
    "language_info": {
      "name": "python"
    }
  },
  "cells": [
    {
      "cell_type": "markdown",
      "source": [
        "In this example, we'll implement a transformer from scratch using PyTorch (we won't rely on the default implementation). We'll train the transformer over randomly generated text sequences. This simple task will allow us to focus on the transformer details, rather than a specific problem.\n",
        "\n",
        "_This example is based on_ [https://github.com/harvardnlp/annotated-transformer](https://github.com/harvardnlp/annotated-transformer) <br/>\n",
        "_Copyright (c) 2018 Alexander Rush<br/>\n",
        "Copyright (c) 2023 Ivan Vasilev<br/>\n",
        "License: MIT_"
      ],
      "metadata": {
        "id": "STZf0fRazEhP"
      }
    },
    {
      "cell_type": "markdown",
      "source": [
        "Install the requirements:"
      ],
      "metadata": {
        "id": "6WZNnVU-zGU9"
      }
    },
    {
      "cell_type": "code",
      "source": [
        "!pip install torch"
      ],
      "metadata": {
        "colab": {
          "base_uri": "https://localhost:8080/"
        },
        "id": "G7DGf0NazoYo",
        "outputId": "ecfe77e2-0fe1-4ae2-bf90-fbecb3095b60"
      },
      "execution_count": 1,
      "outputs": [
        {
          "output_type": "stream",
          "name": "stdout",
          "text": [
            "Requirement already satisfied: torch in /usr/local/lib/python3.10/dist-packages (2.0.1+cu118)\n",
            "Requirement already satisfied: filelock in /usr/local/lib/python3.10/dist-packages (from torch) (3.12.2)\n",
            "Requirement already satisfied: typing-extensions in /usr/local/lib/python3.10/dist-packages (from torch) (4.5.0)\n",
            "Requirement already satisfied: sympy in /usr/local/lib/python3.10/dist-packages (from torch) (1.12)\n",
            "Requirement already satisfied: networkx in /usr/local/lib/python3.10/dist-packages (from torch) (3.1)\n",
            "Requirement already satisfied: jinja2 in /usr/local/lib/python3.10/dist-packages (from torch) (3.1.2)\n",
            "Requirement already satisfied: triton==2.0.0 in /usr/local/lib/python3.10/dist-packages (from torch) (2.0.0)\n",
            "Requirement already satisfied: cmake in /usr/local/lib/python3.10/dist-packages (from triton==2.0.0->torch) (3.27.4.1)\n",
            "Requirement already satisfied: lit in /usr/local/lib/python3.10/dist-packages (from triton==2.0.0->torch) (16.0.6)\n",
            "Requirement already satisfied: MarkupSafe>=2.0 in /usr/local/lib/python3.10/dist-packages (from jinja2->torch) (2.1.3)\n",
            "Requirement already satisfied: mpmath>=0.19 in /usr/local/lib/python3.10/dist-packages (from sympy->torch) (1.3.0)\n"
          ]
        }
      ]
    },
    {
      "cell_type": "markdown",
      "source": [
        "Start with the imports:"
      ],
      "metadata": {
        "id": "lNNlWwOlz6mk"
      }
    },
    {
      "cell_type": "code",
      "execution_count": 2,
      "metadata": {
        "id": "iIlR0A7MzD1W"
      },
      "outputs": [],
      "source": [
        "import copy\n",
        "import math\n",
        "\n",
        "import numpy as np\n",
        "import torch"
      ]
    },
    {
      "cell_type": "markdown",
      "source": [
        "Implement the base single-head attention mechanism:"
      ],
      "metadata": {
        "id": "rBO19loH0Awz"
      }
    },
    {
      "cell_type": "code",
      "source": [
        "def attention(query, key, value, mask=None, dropout=None):\n",
        "    \"\"\"Scaled Dot Product Attention\"\"\"\n",
        "    d_k = query.size(-1)\n",
        "\n",
        "    # 1) and 2) Compute the alignment scores with scaling\n",
        "    scores = (query @ key.transpose(-2, -1)) \\\n",
        "             / math.sqrt(d_k)\n",
        "    if mask is not None:\n",
        "        scores = scores.masked_fill(mask == 0, -1e9)\n",
        "\n",
        "    # 3) Compute the attention scores (softmax)\n",
        "    p_attn = scores.softmax(dim=-1)\n",
        "\n",
        "    if dropout is not None:\n",
        "        p_attn = dropout(p_attn)\n",
        "\n",
        "    # 4) Apply the attention scores over the values\n",
        "    return p_attn @ value, p_attn"
      ],
      "metadata": {
        "id": "E8lQBIW80ID8"
      },
      "execution_count": 3,
      "outputs": []
    },
    {
      "cell_type": "markdown",
      "source": [
        "Implement multi-head attention, which uses `attention` internally:"
      ],
      "metadata": {
        "id": "Co1Ji4dF0Lok"
      }
    },
    {
      "cell_type": "code",
      "source": [
        "class MultiHeadedAttention(torch.nn.Module):\n",
        "    def __init__(self, h, d_model, dropout=0.1):\n",
        "        \"\"\"\n",
        "        :param h: number of heads\n",
        "        :param d_model: query/key/value vector length\n",
        "        \"\"\"\n",
        "        super(MultiHeadedAttention, self).__init__()\n",
        "        assert d_model % h == 0\n",
        "        # We assume d_v always equals d_k\n",
        "        self.d_k = d_model // h\n",
        "        self.h = h\n",
        "\n",
        "        # Create 4 fully connected layers\n",
        "        # 3 for the query/key/value projections\n",
        "        # 1 to concatenate the outputs of all heads\n",
        "        self.fc_layers = clones(\n",
        "            torch.nn.Linear(d_model, d_model), 4)\n",
        "        self.attn = None\n",
        "        self.dropout = torch.nn.Dropout(p=dropout)\n",
        "\n",
        "    def forward(self, query, key, value, mask=None):\n",
        "        if mask is not None:\n",
        "            # Same mask applied to all h heads.\n",
        "            mask = mask.unsqueeze(1)\n",
        "\n",
        "        batch_samples = query.size(0)\n",
        "\n",
        "        # 1) Do all the linear projections in batch from d_model => h x d_k\n",
        "        projections = [\n",
        "            l(x).view(batch_samples, -1, self.h, self.d_k)\n",
        "            .transpose(1, 2)\n",
        "            for l, x in zip(self.fc_layers, (query, key, value))\n",
        "        ]\n",
        "\n",
        "        query, key, value = projections\n",
        "\n",
        "        # 2) Apply attention on all the projected vectors in batch.\n",
        "        x, self.attn = attention(\n",
        "            query, key, value,\n",
        "            mask=mask,\n",
        "            dropout=self.dropout)\n",
        "\n",
        "        # 3) \"Concat\" using a view and apply a final linear.\n",
        "        x = x.transpose(1, 2).contiguous() \\\n",
        "            .view(batch_samples, -1, self.h * self.d_k)\n",
        "\n",
        "        return self.fc_layers[-1](x)"
      ],
      "metadata": {
        "id": "Q6h6LaUY0PFs"
      },
      "execution_count": 4,
      "outputs": []
    },
    {
      "cell_type": "markdown",
      "source": [
        "Implement the `clones` helper function, which allows to copy existing `torch.nn.Module` `n` times:"
      ],
      "metadata": {
        "id": "H0WMkMg70T5F"
      }
    },
    {
      "cell_type": "code",
      "source": [
        "def clones(module: torch.nn.Module, n: int):\n",
        "    \"\"\"\n",
        "    Produce N identical copies of module in a ModuleList\n",
        "    :param module: The module to be copied.\n",
        "        The module itself is not part of the output module list\n",
        "     :param n: Number of copies\n",
        "    \"\"\"\n",
        "    return torch.nn.ModuleList([copy.deepcopy(module) for _ in range(n)])"
      ],
      "metadata": {
        "id": "kfGWZ0hf0dmd"
      },
      "execution_count": 5,
      "outputs": []
    },
    {
      "cell_type": "markdown",
      "source": [
        "Continue with several of the smaller building blocks of the transformer encoder and decoder blocks. First, implement the position-wise feedforward network:"
      ],
      "metadata": {
        "id": "S-4mLrAR0iMW"
      }
    },
    {
      "cell_type": "code",
      "source": [
        "class PositionwiseFFN(torch.nn.Module):\n",
        "    \"\"\"Implements FFN equation from the paper\"\"\"\n",
        "\n",
        "    def __init__(self, d_model: int, d_ff: int, dropout=0.1):\n",
        "        super(PositionwiseFFN, self).__init__()\n",
        "        self.w_1 = torch.nn.Linear(d_model, d_ff)\n",
        "        self.w_2 = torch.nn.Linear(d_ff, d_model)\n",
        "        self.dropout = torch.nn.Dropout(dropout)\n",
        "\n",
        "    def forward(self, x):\n",
        "        return self.w_2(\n",
        "            self.dropout(\n",
        "                torch.nn.functional.silu(\n",
        "                    self.w_1(x)\n",
        "                )))"
      ],
      "metadata": {
        "id": "xDKaGw9X0oI2"
      },
      "execution_count": 6,
      "outputs": []
    },
    {
      "cell_type": "markdown",
      "source": [
        "Implement the `Embeddings` class, which sits as the first layer of both the encoder and the decoder:"
      ],
      "metadata": {
        "id": "FhlYvYi60rGu"
      }
    },
    {
      "cell_type": "code",
      "source": [
        "class Embeddings(torch.nn.Module):\n",
        "    \"\"\"Encoder/Decoder input embeddings\"\"\"\n",
        "\n",
        "    def __init__(self, d_model, vocab_size):\n",
        "        super(Embeddings, self).__init__()\n",
        "        self.lut = torch.nn.Embedding(vocab_size, d_model)\n",
        "        self.d_model = d_model\n",
        "\n",
        "    def forward(self, x):\n",
        "        return self.lut(x) * math.sqrt(self.d_model)"
      ],
      "metadata": {
        "id": "y4WhDhpY0v7_"
      },
      "execution_count": 7,
      "outputs": []
    },
    {
      "cell_type": "markdown",
      "source": [
        "Implement the sub-layer residual connection of the transformer blocks:\n"
      ],
      "metadata": {
        "id": "kvdpl9mN0yjX"
      }
    },
    {
      "cell_type": "code",
      "source": [
        "class SublayerConnection(torch.nn.Module):\n",
        "    \"\"\"\n",
        "    A residual connection followed by a layer norm.\n",
        "    Note for code simplicity the norm is first as opposed to last.\n",
        "    \"\"\"\n",
        "\n",
        "    def __init__(self, size, dropout):\n",
        "        super(SublayerConnection, self).__init__()\n",
        "        self.norm = torch.nn.LayerNorm(size)\n",
        "        self.dropout = torch.nn.Dropout(dropout)\n",
        "\n",
        "    def forward(self, x, sublayer):\n",
        "        \"\"\"Apply residual connection to any sublayer with the same size.\"\"\"\n",
        "        return x + self.dropout(sublayer(self.norm(x)))"
      ],
      "metadata": {
        "id": "hLUJNYqd03go"
      },
      "execution_count": 8,
      "outputs": []
    },
    {
      "cell_type": "markdown",
      "source": [
        "Implement the normalization:"
      ],
      "metadata": {
        "id": "Swtwx4wC06ew"
      }
    },
    {
      "cell_type": "code",
      "source": [
        "class PositionalEncoding(torch.nn.Module):\n",
        "    def __init__(self, d_model, dropout, max_len=5000):\n",
        "        super(PositionalEncoding, self).__init__()\n",
        "        self.dropout = torch.nn.Dropout(p=dropout)\n",
        "\n",
        "        # Compute the positional encodings once in log space.\n",
        "        pe = torch.zeros(max_len, d_model)\n",
        "        position = torch.arange(0, max_len).unsqueeze(1)\n",
        "        div_term = torch.exp(torch.arange(0, d_model, 2) *\n",
        "                             -(math.log(10000.0) / d_model))\n",
        "        pe[:, 0::2] = torch.sin(position * div_term)\n",
        "        pe[:, 1::2] = torch.cos(position * div_term)\n",
        "        pe = pe.unsqueeze(0)\n",
        "        self.register_buffer('pe', pe)\n",
        "\n",
        "    def forward(self, x):\n",
        "        x = x + self.pe[:, :x.size(1)].requires_grad_(requires_grad=False)\n",
        "        return self.dropout(x)"
      ],
      "metadata": {
        "id": "5G181wab0_MR"
      },
      "execution_count": 9,
      "outputs": []
    },
    {
      "cell_type": "markdown",
      "source": [
        "Now, we have everything necessary to implement one encoder block..."
      ],
      "metadata": {
        "id": "b5ez1Qxe1KUJ"
      }
    },
    {
      "cell_type": "code",
      "source": [
        "class EncoderBlock(torch.nn.Module):\n",
        "    \"\"\"Encoder block with self-attention and residual connections\"\"\"\n",
        "\n",
        "    def __init__(self,\n",
        "                 size: int,\n",
        "                 self_attn: MultiHeadedAttention,\n",
        "                 ffn: PositionwiseFFN,\n",
        "                 dropout=0.1):\n",
        "        super(EncoderBlock, self).__init__()\n",
        "        self.self_attn = self_attn\n",
        "        self.ffn = ffn\n",
        "\n",
        "        # Create 2 sub-layer connections\n",
        "        # 1 for the self-attention\n",
        "        # 1 for the FFN\n",
        "        self.sublayers = clones(SublayerConnection(size, dropout), 2)\n",
        "        self.size = size\n",
        "\n",
        "    def forward(self, x, mask):\n",
        "        \"\"\"Self-attention, followed by FFN + residual connections\"\"\"\n",
        "        x = self.sublayers[0](x, lambda x: self.self_attn(x, x, x, mask))\n",
        "        return self.sublayers[1](x, self.ffn)"
      ],
      "metadata": {
        "id": "db7FJ7em1NWl"
      },
      "execution_count": 10,
      "outputs": []
    },
    {
      "cell_type": "markdown",
      "source": [
        "... and the `Encoder` itself, which consists of stacked instances of `EncoderBlock`:"
      ],
      "metadata": {
        "id": "js_MpZmS1QA6"
      }
    },
    {
      "cell_type": "code",
      "source": [
        "class Encoder(torch.nn.Module):\n",
        "    \"\"\"Transformer encoder with a stack of N blocks\"\"\"\n",
        "\n",
        "    def __init__(self, block: EncoderBlock, N: int):\n",
        "        super(Encoder, self).__init__()\n",
        "        self.blocks = clones(block, N)\n",
        "        self.norm = torch.nn.LayerNorm(block.size)\n",
        "\n",
        "    def forward(self, x, mask):\n",
        "        \"\"\"Iterate over all blocks and normalize\"\"\"\n",
        "        for layer in self.blocks:\n",
        "            x = layer(x, mask)\n",
        "\n",
        "        return self.norm(x)"
      ],
      "metadata": {
        "id": "E5p_5EOu1Shz"
      },
      "execution_count": 11,
      "outputs": []
    },
    {
      "cell_type": "markdown",
      "source": [
        "Let's focus on the decoder, starting from the decoder sub-block:"
      ],
      "metadata": {
        "id": "0Awwt4DO1Zlb"
      }
    },
    {
      "cell_type": "code",
      "source": [
        "class DecoderBlock(torch.nn.Module):\n",
        "    \"\"\"One decoder block, composed of self-attention, encoder-attention, and FFN\"\"\"\n",
        "\n",
        "    def __init__(self,\n",
        "                 size: int,\n",
        "                 self_attn: MultiHeadedAttention,\n",
        "                 encoder_attn: MultiHeadedAttention,\n",
        "                 ffn: PositionwiseFFN,\n",
        "                 dropout=0.1):\n",
        "        super(DecoderBlock, self).__init__()\n",
        "        self.size = size\n",
        "        self.self_attn = self_attn\n",
        "        self.encoder_attn = encoder_attn\n",
        "        self.ffn = ffn\n",
        "\n",
        "        # Create 3 sub-layer connections\n",
        "        # 1 for the self-attention\n",
        "        # 1 for the encoder attention\n",
        "        # 1 for the FFN\n",
        "        self.sublayers = clones(SublayerConnection(size, dropout), 3)\n",
        "\n",
        "    def forward(self, x, encoder_states, source_mask, target_mask):\n",
        "        x = self.sublayers[0](x, lambda x: self.self_attn(x, x, x, target_mask))\n",
        "        x = self.sublayers[1](x, lambda x: self.encoder_attn(x, encoder_states, encoder_states, source_mask))\n",
        "        return self.sublayers[2](x, self.ffn)"
      ],
      "metadata": {
        "id": "Be5rlg0q1dpD"
      },
      "execution_count": 12,
      "outputs": []
    },
    {
      "cell_type": "markdown",
      "source": [
        "... and continuing with the decoder itself:"
      ],
      "metadata": {
        "id": "scQNT9va1hCz"
      }
    },
    {
      "cell_type": "code",
      "source": [
        "class Decoder(torch.nn.Module):\n",
        "    \"\"\"Generic N layer decoder with masking.\"\"\"\n",
        "\n",
        "    def __init__(self, block: DecoderBlock, N: int, vocab_size: int):\n",
        "        super(Decoder, self).__init__()\n",
        "        self.blocks = clones(block, N)\n",
        "        self.norm = torch.nn.LayerNorm(block.size)\n",
        "        self.projection = torch.nn.Linear(block.size, vocab_size)\n",
        "\n",
        "    def forward(self, x, encoder_states, source_mask, target_mask):\n",
        "        for layer in self.blocks:\n",
        "            x = layer(x, encoder_states, source_mask, target_mask)\n",
        "\n",
        "        x = self.norm(x)\n",
        "\n",
        "        return torch.nn.functional.log_softmax(self.projection(x), dim=-1)"
      ],
      "metadata": {
        "id": "gkAUqGVt1jVN"
      },
      "execution_count": 13,
      "outputs": []
    },
    {
      "cell_type": "markdown",
      "source": [
        "Now we can implement the full transformer model, which combines the encoder and the decoder:"
      ],
      "metadata": {
        "id": "YA6EmaT-1l7M"
      }
    },
    {
      "cell_type": "code",
      "source": [
        "class EncoderDecoder(torch.nn.Module):\n",
        "    \"\"\"A Encoder-Decoder architecture\"\"\"\n",
        "\n",
        "    def __init__(self,\n",
        "                 encoder: Encoder,\n",
        "                 decoder: Decoder,\n",
        "                 source_embeddings: torch.nn.Sequential,\n",
        "                 target_embeddings: torch.nn.Sequential):\n",
        "        super(EncoderDecoder, self).__init__()\n",
        "        self.encoder = encoder\n",
        "        self.decoder = decoder\n",
        "        self.source_embeddings = source_embeddings\n",
        "        self.target_embeddings = target_embeddings\n",
        "\n",
        "    def forward(self, source, target, source_mask, target_mask):\n",
        "        \"\"\"Take in and process masked src and target sequences.\"\"\"\n",
        "        encoder_output = self.encoder(\n",
        "            x=self.source_embeddings(source),\n",
        "            mask=source_mask)\n",
        "\n",
        "        return self.decoder(\n",
        "            x=self.target_embeddings(target),\n",
        "            encoder_states=encoder_output,\n",
        "            source_mask=source_mask,\n",
        "            target_mask=target_mask)"
      ],
      "metadata": {
        "id": "nLh1BKJ41qXP"
      },
      "execution_count": 14,
      "outputs": []
    },
    {
      "cell_type": "markdown",
      "source": [
        "Define the `build_model` function, which builds and initializes the combined model:"
      ],
      "metadata": {
        "id": "1ZRxTXzl1til"
      }
    },
    {
      "cell_type": "code",
      "source": [
        "def build_model(source_vocabulary: int,\n",
        "                target_vocabulary: int,\n",
        "                N=6, d_model=512, d_ff=2048, h=8, dropout=0.1):\n",
        "    \"\"\"Build the full transformer model\"\"\"\n",
        "    c = copy.deepcopy\n",
        "    attn = MultiHeadedAttention(h, d_model)\n",
        "    ff = PositionwiseFFN(d_model, d_ff, dropout)\n",
        "    position = PositionalEncoding(d_model, dropout)\n",
        "\n",
        "    model = EncoderDecoder(\n",
        "        encoder=Encoder(\n",
        "            EncoderBlock(d_model, c(attn), c(ff), dropout), N),\n",
        "        decoder=Decoder(\n",
        "            DecoderBlock(d_model, c(attn), c(attn),\n",
        "                                     c(ff), dropout), N, target_vocabulary),\n",
        "        source_embeddings=torch.nn.Sequential(\n",
        "            Embeddings(d_model, source_vocabulary), c(position)),\n",
        "        target_embeddings=torch.nn.Sequential(\n",
        "            Embeddings(d_model, target_vocabulary), c(position)))\n",
        "\n",
        "    # Initialize parameters with Glorot / fan_avg.\n",
        "    for p in model.parameters():\n",
        "        if p.dim() > 1:\n",
        "            torch.nn.init.xavier_uniform_(p)\n",
        "\n",
        "    return model"
      ],
      "metadata": {
        "id": "3QAUohX11wsH"
      },
      "execution_count": 15,
      "outputs": []
    },
    {
      "cell_type": "markdown",
      "source": [
        "Continue with some boilerplate code, which will generated `total_samples` random sequences and random labels for them:"
      ],
      "metadata": {
        "id": "_PCK8C-31zxN"
      }
    },
    {
      "cell_type": "code",
      "source": [
        "class RandomDataset(torch.utils.data.Dataset):\n",
        "    \"\"\"Random data copy dataset\"\"\"\n",
        "\n",
        "    def __init__(self, V, total_samples, sample_length):\n",
        "        self.samples = list()\n",
        "\n",
        "        sample = dict()\n",
        "        for i in range(total_samples):\n",
        "            data = torch.from_numpy(np.random.randint(1, V, size=(sample_length,)))\n",
        "            data[0] = 1\n",
        "            source = torch.autograd.Variable(data, requires_grad=False)\n",
        "            target = torch.autograd.Variable(data, requires_grad=False)\n",
        "\n",
        "            sample['source'] = source\n",
        "            sample['target'] = target[:-1]\n",
        "            sample['target_y'] = target[1:]\n",
        "            sample['source_mask'] = (source != 0).unsqueeze(-2)\n",
        "            sample['target_mask'] = self.make_std_mask(sample['target'], 0)\n",
        "            sample['tokens_count'] = (sample['target_y'] != 0).data.sum()\n",
        "\n",
        "            self.samples.append(sample)\n",
        "\n",
        "    def __len__(self):\n",
        "        return len(self.samples)\n",
        "\n",
        "    def __getitem__(self, idx):\n",
        "        return self.samples[idx]\n",
        "\n",
        "    @staticmethod\n",
        "    def make_std_mask(target, pad):\n",
        "        \"\"\"Create a mask to hide padding and future words.\"\"\"\n",
        "        target_mask = (target != pad)\n",
        "        target_mask = target_mask & torch.autograd.Variable(\n",
        "            RandomDataset.subsequent_mask(target.size(-1)).type_as(target_mask.data))\n",
        "\n",
        "        return target_mask\n",
        "\n",
        "    @staticmethod\n",
        "    def subsequent_mask(size):\n",
        "        \"\"\"Mask out subsequent positions.\"\"\"\n",
        "        attn_shape = (size, size)\n",
        "        subsequent_mask = np.triu(np.ones(attn_shape), k=1).astype('uint8')\n",
        "        return torch.from_numpy(subsequent_mask) == 0"
      ],
      "metadata": {
        "id": "lhC9tOc9130m"
      },
      "execution_count": 16,
      "outputs": []
    },
    {
      "cell_type": "markdown",
      "source": [
        "Continue with the transformer training procedure:"
      ],
      "metadata": {
        "id": "1timmrfG19FO"
      }
    },
    {
      "cell_type": "code",
      "source": [
        "def train_model(model, loss_function, optimizer, data_loader):\n",
        "    # set model to training mode\n",
        "    model.train()\n",
        "\n",
        "    current_loss = 0.0\n",
        "    counter = 0\n",
        "\n",
        "    # iterate over the training data\n",
        "    for i, batch in enumerate(data_loader):\n",
        "        with torch.set_grad_enabled(True):\n",
        "            out = model.forward(batch['source'], batch['target'],\n",
        "                                batch['source_mask'], batch['target_mask'])\n",
        "\n",
        "            loss = loss_function(out.contiguous().view(-1, out.size(-1)),\n",
        "                                 batch['target_y'].contiguous().view(-1))\n",
        "\n",
        "            loss.backward()\n",
        "\n",
        "            optimizer.step()\n",
        "            optimizer.zero_grad()\n",
        "\n",
        "            # statistics\n",
        "            current_loss += loss\n",
        "            counter += 1\n",
        "\n",
        "            if counter % 5 == 0:\n",
        "                print(\"Batch: %d; Loss: %f\" % (i + 1, current_loss / counter))\n",
        "                current_loss = 0.0\n",
        "                counter = 0"
      ],
      "metadata": {
        "id": "pRaPA_rL2Apg"
      },
      "execution_count": 17,
      "outputs": []
    },
    {
      "cell_type": "markdown",
      "source": [
        "Finally, we can put it all together. We'll instantiate the model, we'll generate random dataset, and we'll start the training. Since this task (random sequences and labels) is irrelevant, we'll be only interested to see the decrease of the loss function:"
      ],
      "metadata": {
        "id": "yRLyKA8d2DrX"
      }
    },
    {
      "cell_type": "code",
      "source": [
        "V = 11\n",
        "BATCH_SIZE = 50\n",
        "train_set = RandomDataset(11, BATCH_SIZE * 100, 10)\n",
        "\n",
        "train_loader = torch.utils.data.DataLoader(train_set,\n",
        "                                            batch_size=BATCH_SIZE)\n",
        "\n",
        "model = build_model(V, V, N=2)\n",
        "optimizer = torch.optim.Adam(model.parameters())\n",
        "loss_function = torch.nn.CrossEntropyLoss()\n",
        "\n",
        "train_model(model, loss_function, optimizer, train_loader)"
      ],
      "metadata": {
        "colab": {
          "base_uri": "https://localhost:8080/"
        },
        "id": "3UumMBtA2Gf_",
        "outputId": "ce2574b9-ce7e-4697-87d5-9a2f55bdea66"
      },
      "execution_count": 18,
      "outputs": [
        {
          "output_type": "stream",
          "name": "stdout",
          "text": [
            "Batch: 5; Loss: 3.480332\n",
            "Batch: 10; Loss: 0.562077\n",
            "Batch: 15; Loss: 0.115473\n",
            "Batch: 20; Loss: 0.035247\n",
            "Batch: 25; Loss: 0.008098\n",
            "Batch: 30; Loss: 0.001986\n",
            "Batch: 35; Loss: 0.000543\n",
            "Batch: 40; Loss: 0.000267\n",
            "Batch: 45; Loss: 0.000347\n",
            "Batch: 50; Loss: 0.000213\n",
            "Batch: 55; Loss: 0.000207\n",
            "Batch: 60; Loss: 0.000076\n",
            "Batch: 65; Loss: 0.000034\n",
            "Batch: 70; Loss: 0.000036\n",
            "Batch: 75; Loss: 0.000041\n",
            "Batch: 80; Loss: 0.000067\n",
            "Batch: 85; Loss: 0.000030\n",
            "Batch: 90; Loss: 0.000028\n",
            "Batch: 95; Loss: 0.000029\n",
            "Batch: 100; Loss: 0.000022\n"
          ]
        }
      ]
    }
  ]
}